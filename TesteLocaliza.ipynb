{
  "nbformat": 4,
  "nbformat_minor": 0,
  "metadata": {
    "colab": {
      "name": "TesteLocaliza.ipynb",
      "provenance": [],
      "collapsed_sections": [],
      "authorship_tag": "ABX9TyMPv8YLJL2aNdbgt1/yzYIN",
      "include_colab_link": true
    },
    "kernelspec": {
      "name": "python3",
      "display_name": "Python 3"
    }
  },
  "cells": [
    {
      "cell_type": "markdown",
      "metadata": {
        "id": "view-in-github",
        "colab_type": "text"
      },
      "source": [
        "<a href=\"https://colab.research.google.com/github/Kan4me/TesteLocaliza/blob/main/TesteLocaliza.ipynb\" target=\"_parent\"><img src=\"https://colab.research.google.com/assets/colab-badge.svg\" alt=\"Open In Colab\"/></a>"
      ]
    },
    {
      "cell_type": "markdown",
      "metadata": {
        "id": "fdLYk0uUFnx6"
      },
      "source": [
        "#Teste Prático Localiza\n",
        "\n",
        "Realizar o treino de um modelo preditivo que seja capaz de identificar se o Cliente será Adiplente (0) ou Inadimplente (1), conforme base disponibilizada."
      ]
    },
    {
      "cell_type": "markdown",
      "metadata": {
        "id": "PfIopIvGz_xa"
      },
      "source": [
        "* Conexão com o Google Drive e instalação dos pacotes que serão utilizados"
      ]
    },
    {
      "cell_type": "code",
      "metadata": {
        "id": "iiLYYNzZX1AI"
      },
      "source": [
        "# pip install PyDrive\n",
        "from pydrive.auth import GoogleAuth\n",
        "from pydrive.drive import GoogleDrive\n",
        "from google.colab import auth\n",
        "from oauth2client.client import GoogleCredentials\n",
        "\n",
        "auth.authenticate_user()\n",
        "gauth = GoogleAuth()\n",
        "gauth.credentials = GoogleCredentials.get_application_default()\n",
        "drive = GoogleDrive(gauth)"
      ],
      "execution_count": 1,
      "outputs": []
    },
    {
      "cell_type": "code",
      "metadata": {
        "id": "zalW59m5k_R7",
        "outputId": "7499a886-cb45-4ade-eeb9-e5b3d1b71c19",
        "colab": {
          "base_uri": "https://localhost:8080/",
          "height": 34
        }
      },
      "source": [
        "#Mounted Google Drive de interesse\n",
        "from google.colab import drive\n",
        "drive.mount(\"/content/drive\", force_remount=True)"
      ],
      "execution_count": 2,
      "outputs": [
        {
          "output_type": "stream",
          "text": [
            "Mounted at /content/drive\n"
          ],
          "name": "stdout"
        }
      ]
    },
    {
      "cell_type": "code",
      "metadata": {
        "id": "VK80lQpAlCFA",
        "outputId": "7e08bb6a-1bc9-4a5a-c7e0-818c39071191",
        "colab": {
          "base_uri": "https://localhost:8080/",
          "height": 666
        }
      },
      "source": [
        "# Configuração das bibliotecas de interesse\n",
        "!pip install scikit-plot\n",
        "!pip install eli5\n",
        "\n",
        "import pandas as pd\n",
        "import seaborn as sns\n",
        "import numpy as np\n",
        "import datetime\n",
        "import matplotlib.pyplot as plt\n",
        "import sklearn as sk\n",
        "import scikitplot as skplt\n",
        "\n",
        "\n",
        "from sklearn import preprocessing\n",
        "from sklearn.impute import SimpleImputer\n",
        "from sklearn.preprocessing import MinMaxScaler\n",
        "from matplotlib.ticker import StrMethodFormatter\n",
        "from sklearn.inspection import permutation_importance\n",
        "from sklearn.neighbors import KNeighborsClassifier\n",
        "from sklearn.datasets import make_classification\n",
        "from sklearn.pipeline import Pipeline\n",
        "from sklearn.decomposition import PCA\n",
        "\n",
        "from sklearn.ensemble import RandomForestClassifier\n",
        "from sklearn.ensemble import RandomForestRegressor\n",
        "\n",
        "from sklearn.model_selection import train_test_split\n",
        "from sklearn.model_selection import cross_validate\n",
        "from sklearn.model_selection import GridSearchCV\n",
        "from sklearn.model_selection import StratifiedKFold\n",
        "\n",
        "from sklearn.metrics import accuracy_score\n",
        "from sklearn.metrics import recall_score, precision_score, f1_score\n",
        "from sklearn.metrics import confusion_matrix\n",
        "from sklearn.metrics import plot_confusion_matrix\n",
        "from sklearn.metrics import classification_report\n",
        "\n",
        "\n",
        "from imblearn.under_sampling import RandomUnderSampler\n",
        "from sklearn.tree import export_graphviz\n",
        "import pydot\n",
        "\n",
        "import eli5\n",
        "from eli5.sklearn import PermutationImportance\n"
      ],
      "execution_count": 3,
      "outputs": [
        {
          "output_type": "stream",
          "text": [
            "Collecting scikit-plot\n",
            "  Downloading https://files.pythonhosted.org/packages/7c/47/32520e259340c140a4ad27c1b97050dd3254fdc517b1d59974d47037510e/scikit_plot-0.3.7-py3-none-any.whl\n",
            "Requirement already satisfied: joblib>=0.10 in /usr/local/lib/python3.6/dist-packages (from scikit-plot) (0.17.0)\n",
            "Requirement already satisfied: scikit-learn>=0.18 in /usr/local/lib/python3.6/dist-packages (from scikit-plot) (0.22.2.post1)\n",
            "Requirement already satisfied: matplotlib>=1.4.0 in /usr/local/lib/python3.6/dist-packages (from scikit-plot) (3.2.2)\n",
            "Requirement already satisfied: scipy>=0.9 in /usr/local/lib/python3.6/dist-packages (from scikit-plot) (1.4.1)\n",
            "Requirement already satisfied: numpy>=1.11.0 in /usr/local/lib/python3.6/dist-packages (from scikit-learn>=0.18->scikit-plot) (1.18.5)\n",
            "Requirement already satisfied: pyparsing!=2.0.4,!=2.1.2,!=2.1.6,>=2.0.1 in /usr/local/lib/python3.6/dist-packages (from matplotlib>=1.4.0->scikit-plot) (2.4.7)\n",
            "Requirement already satisfied: kiwisolver>=1.0.1 in /usr/local/lib/python3.6/dist-packages (from matplotlib>=1.4.0->scikit-plot) (1.2.0)\n",
            "Requirement already satisfied: cycler>=0.10 in /usr/local/lib/python3.6/dist-packages (from matplotlib>=1.4.0->scikit-plot) (0.10.0)\n",
            "Requirement already satisfied: python-dateutil>=2.1 in /usr/local/lib/python3.6/dist-packages (from matplotlib>=1.4.0->scikit-plot) (2.8.1)\n",
            "Requirement already satisfied: six in /usr/local/lib/python3.6/dist-packages (from cycler>=0.10->matplotlib>=1.4.0->scikit-plot) (1.15.0)\n",
            "Installing collected packages: scikit-plot\n",
            "Successfully installed scikit-plot-0.3.7\n",
            "Collecting eli5\n",
            "\u001b[?25l  Downloading https://files.pythonhosted.org/packages/97/2f/c85c7d8f8548e460829971785347e14e45fa5c6617da374711dec8cb38cc/eli5-0.10.1-py2.py3-none-any.whl (105kB)\n",
            "\u001b[K     |████████████████████████████████| 112kB 3.4MB/s \n",
            "\u001b[?25hRequirement already satisfied: attrs>16.0.0 in /usr/local/lib/python3.6/dist-packages (from eli5) (20.2.0)\n",
            "Requirement already satisfied: scikit-learn>=0.18 in /usr/local/lib/python3.6/dist-packages (from eli5) (0.22.2.post1)\n",
            "Requirement already satisfied: tabulate>=0.7.7 in /usr/local/lib/python3.6/dist-packages (from eli5) (0.8.7)\n",
            "Requirement already satisfied: jinja2 in /usr/local/lib/python3.6/dist-packages (from eli5) (2.11.2)\n",
            "Requirement already satisfied: scipy in /usr/local/lib/python3.6/dist-packages (from eli5) (1.4.1)\n",
            "Requirement already satisfied: graphviz in /usr/local/lib/python3.6/dist-packages (from eli5) (0.10.1)\n",
            "Requirement already satisfied: numpy>=1.9.0 in /usr/local/lib/python3.6/dist-packages (from eli5) (1.18.5)\n",
            "Requirement already satisfied: six in /usr/local/lib/python3.6/dist-packages (from eli5) (1.15.0)\n",
            "Requirement already satisfied: joblib>=0.11 in /usr/local/lib/python3.6/dist-packages (from scikit-learn>=0.18->eli5) (0.17.0)\n",
            "Requirement already satisfied: MarkupSafe>=0.23 in /usr/local/lib/python3.6/dist-packages (from jinja2->eli5) (1.1.1)\n",
            "Installing collected packages: eli5\n",
            "Successfully installed eli5-0.10.1\n"
          ],
          "name": "stdout"
        },
        {
          "output_type": "stream",
          "text": [
            "/usr/local/lib/python3.6/dist-packages/sklearn/externals/six.py:31: FutureWarning: The module is deprecated in version 0.21 and will be removed in version 0.23 since we've dropped support for Python 2.7. Please rely on the official version of six (https://pypi.org/project/six/).\n",
            "  \"(https://pypi.org/project/six/).\", FutureWarning)\n",
            "/usr/local/lib/python3.6/dist-packages/sklearn/utils/deprecation.py:144: FutureWarning: The sklearn.neighbors.base module is  deprecated in version 0.22 and will be removed in version 0.24. The corresponding classes / functions should instead be imported from sklearn.neighbors. Anything that cannot be imported from sklearn.neighbors is now part of the private API.\n",
            "  warnings.warn(message, FutureWarning)\n",
            "/usr/local/lib/python3.6/dist-packages/sklearn/utils/deprecation.py:144: FutureWarning: The sklearn.metrics.scorer module is  deprecated in version 0.22 and will be removed in version 0.24. The corresponding classes / functions should instead be imported from sklearn.metrics. Anything that cannot be imported from sklearn.metrics is now part of the private API.\n",
            "  warnings.warn(message, FutureWarning)\n",
            "/usr/local/lib/python3.6/dist-packages/sklearn/utils/deprecation.py:144: FutureWarning: The sklearn.feature_selection.base module is  deprecated in version 0.22 and will be removed in version 0.24. The corresponding classes / functions should instead be imported from sklearn.feature_selection. Anything that cannot be imported from sklearn.feature_selection is now part of the private API.\n",
            "  warnings.warn(message, FutureWarning)\n"
          ],
          "name": "stderr"
        }
      ]
    },
    {
      "cell_type": "markdown",
      "metadata": {
        "id": "PiJk2Ww20W7p"
      },
      "source": [
        "* A base disponibilizada encontra-se em formato .csv"
      ]
    },
    {
      "cell_type": "code",
      "metadata": {
        "id": "yzKIUodslF5w",
        "outputId": "947d48de-c6d4-4b85-dcc7-c00fddaf57f0",
        "colab": {
          "base_uri": "https://localhost:8080/",
          "height": 850
        }
      },
      "source": [
        "#Carregar arquivo XLSX de interesse\n",
        "\n",
        "base = '/content/drive/My Drive/AnaliseLocaliza/inadimplencia.csv'\n",
        "\n",
        "base_dados = pd.read_csv(base)\n",
        "base_dados.head()"
      ],
      "execution_count": 4,
      "outputs": [
        {
          "output_type": "error",
          "ename": "UnicodeDecodeError",
          "evalue": "ignored",
          "traceback": [
            "\u001b[0;31m---------------------------------------------------------------------------\u001b[0m",
            "\u001b[0;31mUnicodeDecodeError\u001b[0m                        Traceback (most recent call last)",
            "\u001b[0;32mpandas/_libs/parsers.pyx\u001b[0m in \u001b[0;36mpandas._libs.parsers.TextReader._convert_tokens\u001b[0;34m()\u001b[0m\n",
            "\u001b[0;32mpandas/_libs/parsers.pyx\u001b[0m in \u001b[0;36mpandas._libs.parsers.TextReader._convert_with_dtype\u001b[0;34m()\u001b[0m\n",
            "\u001b[0;32mpandas/_libs/parsers.pyx\u001b[0m in \u001b[0;36mpandas._libs.parsers.TextReader._string_convert\u001b[0;34m()\u001b[0m\n",
            "\u001b[0;32mpandas/_libs/parsers.pyx\u001b[0m in \u001b[0;36mpandas._libs.parsers._string_box_utf8\u001b[0;34m()\u001b[0m\n",
            "\u001b[0;31mUnicodeDecodeError\u001b[0m: 'utf-8' codec can't decode byte 0xe3 in position 108: invalid continuation byte",
            "\nDuring handling of the above exception, another exception occurred:\n",
            "\u001b[0;31mUnicodeDecodeError\u001b[0m                        Traceback (most recent call last)",
            "\u001b[0;32m<ipython-input-4-f1d6f8855586>\u001b[0m in \u001b[0;36m<module>\u001b[0;34m()\u001b[0m\n\u001b[1;32m      3\u001b[0m \u001b[0mbase\u001b[0m \u001b[0;34m=\u001b[0m \u001b[0;34m'/content/drive/My Drive/AnaliseLocaliza/inadimplencia.csv'\u001b[0m\u001b[0;34m\u001b[0m\u001b[0;34m\u001b[0m\u001b[0m\n\u001b[1;32m      4\u001b[0m \u001b[0;34m\u001b[0m\u001b[0m\n\u001b[0;32m----> 5\u001b[0;31m \u001b[0mbase_dados\u001b[0m \u001b[0;34m=\u001b[0m \u001b[0mpd\u001b[0m\u001b[0;34m.\u001b[0m\u001b[0mread_csv\u001b[0m\u001b[0;34m(\u001b[0m\u001b[0mbase\u001b[0m\u001b[0;34m)\u001b[0m\u001b[0;34m\u001b[0m\u001b[0;34m\u001b[0m\u001b[0m\n\u001b[0m\u001b[1;32m      6\u001b[0m \u001b[0mbase_dados\u001b[0m\u001b[0;34m.\u001b[0m\u001b[0mhead\u001b[0m\u001b[0;34m(\u001b[0m\u001b[0;34m)\u001b[0m\u001b[0;34m\u001b[0m\u001b[0;34m\u001b[0m\u001b[0m\n",
            "\u001b[0;32m/usr/local/lib/python3.6/dist-packages/pandas/io/parsers.py\u001b[0m in \u001b[0;36mread_csv\u001b[0;34m(filepath_or_buffer, sep, delimiter, header, names, index_col, usecols, squeeze, prefix, mangle_dupe_cols, dtype, engine, converters, true_values, false_values, skipinitialspace, skiprows, skipfooter, nrows, na_values, keep_default_na, na_filter, verbose, skip_blank_lines, parse_dates, infer_datetime_format, keep_date_col, date_parser, dayfirst, cache_dates, iterator, chunksize, compression, thousands, decimal, lineterminator, quotechar, quoting, doublequote, escapechar, comment, encoding, dialect, error_bad_lines, warn_bad_lines, delim_whitespace, low_memory, memory_map, float_precision)\u001b[0m\n\u001b[1;32m    684\u001b[0m     )\n\u001b[1;32m    685\u001b[0m \u001b[0;34m\u001b[0m\u001b[0m\n\u001b[0;32m--> 686\u001b[0;31m     \u001b[0;32mreturn\u001b[0m \u001b[0m_read\u001b[0m\u001b[0;34m(\u001b[0m\u001b[0mfilepath_or_buffer\u001b[0m\u001b[0;34m,\u001b[0m \u001b[0mkwds\u001b[0m\u001b[0;34m)\u001b[0m\u001b[0;34m\u001b[0m\u001b[0;34m\u001b[0m\u001b[0m\n\u001b[0m\u001b[1;32m    687\u001b[0m \u001b[0;34m\u001b[0m\u001b[0m\n\u001b[1;32m    688\u001b[0m \u001b[0;34m\u001b[0m\u001b[0m\n",
            "\u001b[0;32m/usr/local/lib/python3.6/dist-packages/pandas/io/parsers.py\u001b[0m in \u001b[0;36m_read\u001b[0;34m(filepath_or_buffer, kwds)\u001b[0m\n\u001b[1;32m    456\u001b[0m \u001b[0;34m\u001b[0m\u001b[0m\n\u001b[1;32m    457\u001b[0m     \u001b[0;32mtry\u001b[0m\u001b[0;34m:\u001b[0m\u001b[0;34m\u001b[0m\u001b[0;34m\u001b[0m\u001b[0m\n\u001b[0;32m--> 458\u001b[0;31m         \u001b[0mdata\u001b[0m \u001b[0;34m=\u001b[0m \u001b[0mparser\u001b[0m\u001b[0;34m.\u001b[0m\u001b[0mread\u001b[0m\u001b[0;34m(\u001b[0m\u001b[0mnrows\u001b[0m\u001b[0;34m)\u001b[0m\u001b[0;34m\u001b[0m\u001b[0;34m\u001b[0m\u001b[0m\n\u001b[0m\u001b[1;32m    459\u001b[0m     \u001b[0;32mfinally\u001b[0m\u001b[0;34m:\u001b[0m\u001b[0;34m\u001b[0m\u001b[0;34m\u001b[0m\u001b[0m\n\u001b[1;32m    460\u001b[0m         \u001b[0mparser\u001b[0m\u001b[0;34m.\u001b[0m\u001b[0mclose\u001b[0m\u001b[0;34m(\u001b[0m\u001b[0;34m)\u001b[0m\u001b[0;34m\u001b[0m\u001b[0;34m\u001b[0m\u001b[0m\n",
            "\u001b[0;32m/usr/local/lib/python3.6/dist-packages/pandas/io/parsers.py\u001b[0m in \u001b[0;36mread\u001b[0;34m(self, nrows)\u001b[0m\n\u001b[1;32m   1194\u001b[0m     \u001b[0;32mdef\u001b[0m \u001b[0mread\u001b[0m\u001b[0;34m(\u001b[0m\u001b[0mself\u001b[0m\u001b[0;34m,\u001b[0m \u001b[0mnrows\u001b[0m\u001b[0;34m=\u001b[0m\u001b[0;32mNone\u001b[0m\u001b[0;34m)\u001b[0m\u001b[0;34m:\u001b[0m\u001b[0;34m\u001b[0m\u001b[0;34m\u001b[0m\u001b[0m\n\u001b[1;32m   1195\u001b[0m         \u001b[0mnrows\u001b[0m \u001b[0;34m=\u001b[0m \u001b[0m_validate_integer\u001b[0m\u001b[0;34m(\u001b[0m\u001b[0;34m\"nrows\"\u001b[0m\u001b[0;34m,\u001b[0m \u001b[0mnrows\u001b[0m\u001b[0;34m)\u001b[0m\u001b[0;34m\u001b[0m\u001b[0;34m\u001b[0m\u001b[0m\n\u001b[0;32m-> 1196\u001b[0;31m         \u001b[0mret\u001b[0m \u001b[0;34m=\u001b[0m \u001b[0mself\u001b[0m\u001b[0;34m.\u001b[0m\u001b[0m_engine\u001b[0m\u001b[0;34m.\u001b[0m\u001b[0mread\u001b[0m\u001b[0;34m(\u001b[0m\u001b[0mnrows\u001b[0m\u001b[0;34m)\u001b[0m\u001b[0;34m\u001b[0m\u001b[0;34m\u001b[0m\u001b[0m\n\u001b[0m\u001b[1;32m   1197\u001b[0m \u001b[0;34m\u001b[0m\u001b[0m\n\u001b[1;32m   1198\u001b[0m         \u001b[0;31m# May alter columns / col_dict\u001b[0m\u001b[0;34m\u001b[0m\u001b[0;34m\u001b[0m\u001b[0;34m\u001b[0m\u001b[0m\n",
            "\u001b[0;32m/usr/local/lib/python3.6/dist-packages/pandas/io/parsers.py\u001b[0m in \u001b[0;36mread\u001b[0;34m(self, nrows)\u001b[0m\n\u001b[1;32m   2153\u001b[0m     \u001b[0;32mdef\u001b[0m \u001b[0mread\u001b[0m\u001b[0;34m(\u001b[0m\u001b[0mself\u001b[0m\u001b[0;34m,\u001b[0m \u001b[0mnrows\u001b[0m\u001b[0;34m=\u001b[0m\u001b[0;32mNone\u001b[0m\u001b[0;34m)\u001b[0m\u001b[0;34m:\u001b[0m\u001b[0;34m\u001b[0m\u001b[0;34m\u001b[0m\u001b[0m\n\u001b[1;32m   2154\u001b[0m         \u001b[0;32mtry\u001b[0m\u001b[0;34m:\u001b[0m\u001b[0;34m\u001b[0m\u001b[0;34m\u001b[0m\u001b[0m\n\u001b[0;32m-> 2155\u001b[0;31m             \u001b[0mdata\u001b[0m \u001b[0;34m=\u001b[0m \u001b[0mself\u001b[0m\u001b[0;34m.\u001b[0m\u001b[0m_reader\u001b[0m\u001b[0;34m.\u001b[0m\u001b[0mread\u001b[0m\u001b[0;34m(\u001b[0m\u001b[0mnrows\u001b[0m\u001b[0;34m)\u001b[0m\u001b[0;34m\u001b[0m\u001b[0;34m\u001b[0m\u001b[0m\n\u001b[0m\u001b[1;32m   2156\u001b[0m         \u001b[0;32mexcept\u001b[0m \u001b[0mStopIteration\u001b[0m\u001b[0;34m:\u001b[0m\u001b[0;34m\u001b[0m\u001b[0;34m\u001b[0m\u001b[0m\n\u001b[1;32m   2157\u001b[0m             \u001b[0;32mif\u001b[0m \u001b[0mself\u001b[0m\u001b[0;34m.\u001b[0m\u001b[0m_first_chunk\u001b[0m\u001b[0;34m:\u001b[0m\u001b[0;34m\u001b[0m\u001b[0;34m\u001b[0m\u001b[0m\n",
            "\u001b[0;32mpandas/_libs/parsers.pyx\u001b[0m in \u001b[0;36mpandas._libs.parsers.TextReader.read\u001b[0;34m()\u001b[0m\n",
            "\u001b[0;32mpandas/_libs/parsers.pyx\u001b[0m in \u001b[0;36mpandas._libs.parsers.TextReader._read_low_memory\u001b[0;34m()\u001b[0m\n",
            "\u001b[0;32mpandas/_libs/parsers.pyx\u001b[0m in \u001b[0;36mpandas._libs.parsers.TextReader._read_rows\u001b[0;34m()\u001b[0m\n",
            "\u001b[0;32mpandas/_libs/parsers.pyx\u001b[0m in \u001b[0;36mpandas._libs.parsers.TextReader._convert_column_data\u001b[0;34m()\u001b[0m\n",
            "\u001b[0;32mpandas/_libs/parsers.pyx\u001b[0m in \u001b[0;36mpandas._libs.parsers.TextReader._convert_tokens\u001b[0;34m()\u001b[0m\n",
            "\u001b[0;32mpandas/_libs/parsers.pyx\u001b[0m in \u001b[0;36mpandas._libs.parsers.TextReader._convert_with_dtype\u001b[0;34m()\u001b[0m\n",
            "\u001b[0;32mpandas/_libs/parsers.pyx\u001b[0m in \u001b[0;36mpandas._libs.parsers.TextReader._string_convert\u001b[0;34m()\u001b[0m\n",
            "\u001b[0;32mpandas/_libs/parsers.pyx\u001b[0m in \u001b[0;36mpandas._libs.parsers._string_box_utf8\u001b[0;34m()\u001b[0m\n",
            "\u001b[0;31mUnicodeDecodeError\u001b[0m: 'utf-8' codec can't decode byte 0xe3 in position 108: invalid continuation byte"
          ]
        }
      ]
    },
    {
      "cell_type": "markdown",
      "metadata": {
        "id": "WHzT7Rus0iBP"
      },
      "source": [
        "* Como houve erro para carregar a base, foi necessário realizar um outro tipo de procedimento"
      ]
    },
    {
      "cell_type": "code",
      "metadata": {
        "id": "DKe-WovVuM67",
        "outputId": "fc4e85d5-ec2d-44d0-97b0-543644942e1d",
        "colab": {
          "base_uri": "https://localhost:8080/",
          "height": 34
        }
      },
      "source": [
        "import chardet\n",
        "\n",
        "with open(base, 'rb') as rawdata:\n",
        "\n",
        "    result = chardet.detect(rawdata.read(100000))\n",
        "\n",
        "result"
      ],
      "execution_count": 5,
      "outputs": [
        {
          "output_type": "execute_result",
          "data": {
            "text/plain": [
              "{'confidence': 0.73, 'encoding': 'ISO-8859-1', 'language': ''}"
            ]
          },
          "metadata": {
            "tags": []
          },
          "execution_count": 5
        }
      ]
    },
    {
      "cell_type": "code",
      "metadata": {
        "id": "LeAAGFsVxU42",
        "outputId": "a0934437-c788-4caf-d326-6e45045d902c",
        "colab": {
          "base_uri": "https://localhost:8080/",
          "height": 309
        }
      },
      "source": [
        "base_dados = pd.read_csv(base, encoding='ISO-8859-1', sep =';')\n",
        "base_dados.head()"
      ],
      "execution_count": 6,
      "outputs": [
        {
          "output_type": "execute_result",
          "data": {
            "text/html": [
              "<div>\n",
              "<style scoped>\n",
              "    .dataframe tbody tr th:only-of-type {\n",
              "        vertical-align: middle;\n",
              "    }\n",
              "\n",
              "    .dataframe tbody tr th {\n",
              "        vertical-align: top;\n",
              "    }\n",
              "\n",
              "    .dataframe thead th {\n",
              "        text-align: right;\n",
              "    }\n",
              "</style>\n",
              "<table border=\"1\" class=\"dataframe\">\n",
              "  <thead>\n",
              "    <tr style=\"text-align: right;\">\n",
              "      <th></th>\n",
              "      <th>Cliente</th>\n",
              "      <th>dt_nascimento</th>\n",
              "      <th>cd_estado</th>\n",
              "      <th>cd_pais</th>\n",
              "      <th>ind_inadimpl</th>\n",
              "      <th>cd_contrato</th>\n",
              "      <th>data_abertura</th>\n",
              "      <th>regiao_moradia</th>\n",
              "      <th>contratos_anteriores</th>\n",
              "      <th>data_primeiro_contrato</th>\n",
              "      <th>tempo_primeiro_contrato</th>\n",
              "      <th>situacao_pagamento</th>\n",
              "      <th>tempo_maximo_atraso</th>\n",
              "      <th>atraso_anterior</th>\n",
              "    </tr>\n",
              "  </thead>\n",
              "  <tbody>\n",
              "    <tr>\n",
              "      <th>0</th>\n",
              "      <td>d7f109c2528d9e67b0a4aefc506e0829</td>\n",
              "      <td>1928/01/18 00:00:00</td>\n",
              "      <td>PE</td>\n",
              "      <td>55</td>\n",
              "      <td>1</td>\n",
              "      <td>5c0df077b7e4059882c71d545ada5d02</td>\n",
              "      <td>08/02/2018</td>\n",
              "      <td>Nordeste</td>\n",
              "      <td>3</td>\n",
              "      <td>20/01/2018</td>\n",
              "      <td>0</td>\n",
              "      <td>Faturas quitadas</td>\n",
              "      <td>0</td>\n",
              "      <td>Nenhum atraso anterior</td>\n",
              "    </tr>\n",
              "    <tr>\n",
              "      <th>1</th>\n",
              "      <td>ed686356fc436976a2a1bc6b0ba4b689</td>\n",
              "      <td>1930/03/20 00:00:00</td>\n",
              "      <td>SP</td>\n",
              "      <td>55</td>\n",
              "      <td>1</td>\n",
              "      <td>bba0ba46d3014b8730d46ee517bd26ac</td>\n",
              "      <td>13/12/2018</td>\n",
              "      <td>São Paulo</td>\n",
              "      <td>6</td>\n",
              "      <td>14/06/1996</td>\n",
              "      <td>269</td>\n",
              "      <td>Faturas quitadas</td>\n",
              "      <td>20</td>\n",
              "      <td>Até 30 dias de atraso</td>\n",
              "    </tr>\n",
              "    <tr>\n",
              "      <th>2</th>\n",
              "      <td>b1934e915a7613f4f045c7bb1e650da4</td>\n",
              "      <td>1930/05/06 00:00:00</td>\n",
              "      <td>SP</td>\n",
              "      <td>55</td>\n",
              "      <td>1</td>\n",
              "      <td>5568836053503c035f5647dca25fd637</td>\n",
              "      <td>03/01/2019</td>\n",
              "      <td>São Paulo</td>\n",
              "      <td>0</td>\n",
              "      <td>03/01/2019</td>\n",
              "      <td>0</td>\n",
              "      <td>Nenhuma fatura anterior</td>\n",
              "      <td>0</td>\n",
              "      <td>Nenhum atraso anterior</td>\n",
              "    </tr>\n",
              "    <tr>\n",
              "      <th>3</th>\n",
              "      <td>fcf19843ab8de3a1e3c4384cf7b076cb</td>\n",
              "      <td>1931/08/27 00:00:00</td>\n",
              "      <td>SP</td>\n",
              "      <td>55</td>\n",
              "      <td>1</td>\n",
              "      <td>6a0c1170901c77a878f174c870969085</td>\n",
              "      <td>20/04/2018</td>\n",
              "      <td>São Paulo</td>\n",
              "      <td>1</td>\n",
              "      <td>06/09/2017</td>\n",
              "      <td>7</td>\n",
              "      <td>Faturas quitadas</td>\n",
              "      <td>127</td>\n",
              "      <td>Mais de 30 dias de atraso</td>\n",
              "    </tr>\n",
              "    <tr>\n",
              "      <th>4</th>\n",
              "      <td>360f4c4d9c168f6c09aa5cd76d4f575c</td>\n",
              "      <td>1931/09/30 00:00:00</td>\n",
              "      <td>DF</td>\n",
              "      <td>55</td>\n",
              "      <td>1</td>\n",
              "      <td>3197dedf72fc4d8a20c7ee236cfff562</td>\n",
              "      <td>24/10/2018</td>\n",
              "      <td>Centro-Oeste</td>\n",
              "      <td>4</td>\n",
              "      <td>02/10/1995</td>\n",
              "      <td>276</td>\n",
              "      <td>Nenhuma fatura anterior</td>\n",
              "      <td>0</td>\n",
              "      <td>Nenhum atraso anterior</td>\n",
              "    </tr>\n",
              "  </tbody>\n",
              "</table>\n",
              "</div>"
            ],
            "text/plain": [
              "                            Cliente  ...            atraso_anterior\n",
              "0  d7f109c2528d9e67b0a4aefc506e0829  ...     Nenhum atraso anterior\n",
              "1  ed686356fc436976a2a1bc6b0ba4b689  ...      Até 30 dias de atraso\n",
              "2  b1934e915a7613f4f045c7bb1e650da4  ...     Nenhum atraso anterior\n",
              "3  fcf19843ab8de3a1e3c4384cf7b076cb  ...  Mais de 30 dias de atraso\n",
              "4  360f4c4d9c168f6c09aa5cd76d4f575c  ...     Nenhum atraso anterior\n",
              "\n",
              "[5 rows x 14 columns]"
            ]
          },
          "metadata": {
            "tags": []
          },
          "execution_count": 6
        }
      ]
    },
    {
      "cell_type": "code",
      "metadata": {
        "id": "tnrAv5c9LcWq",
        "outputId": "1e9695df-2cdc-46b2-a6f5-8dcbbdbd77ae",
        "colab": {
          "base_uri": "https://localhost:8080/",
          "height": 374
        }
      },
      "source": [
        "base_dados.info()"
      ],
      "execution_count": 7,
      "outputs": [
        {
          "output_type": "stream",
          "text": [
            "<class 'pandas.core.frame.DataFrame'>\n",
            "RangeIndex: 91638 entries, 0 to 91637\n",
            "Data columns (total 14 columns):\n",
            " #   Column                   Non-Null Count  Dtype \n",
            "---  ------                   --------------  ----- \n",
            " 0   Cliente                  91638 non-null  object\n",
            " 1   dt_nascimento            91638 non-null  object\n",
            " 2   cd_estado                91618 non-null  object\n",
            " 3   cd_pais                  91638 non-null  int64 \n",
            " 4   ind_inadimpl             91638 non-null  int64 \n",
            " 5   cd_contrato              91638 non-null  object\n",
            " 6   data_abertura            91638 non-null  object\n",
            " 7   regiao_moradia           91638 non-null  object\n",
            " 8   contratos_anteriores     91638 non-null  int64 \n",
            " 9   data_primeiro_contrato   91638 non-null  object\n",
            " 10  tempo_primeiro_contrato  91638 non-null  int64 \n",
            " 11  situacao_pagamento       91638 non-null  object\n",
            " 12  tempo_maximo_atraso      91638 non-null  int64 \n",
            " 13  atraso_anterior          91638 non-null  object\n",
            "dtypes: int64(5), object(9)\n",
            "memory usage: 9.8+ MB\n"
          ],
          "name": "stdout"
        }
      ]
    },
    {
      "cell_type": "markdown",
      "metadata": {
        "id": "ax18WosB0zY1"
      },
      "source": [
        "* Percebe-se que a base disponibilizada possui 14 variáveis numéricas e categóricas.\n",
        "\n",
        "* Descrição das variáveis:\n",
        "> <br> **Cliente**: Identificação Cliente \n",
        "> <br> **dt_nascimento**: Data Nascimento Cliente \n",
        "> <br> **cd_estado**: Estado de residência Cliente\n",
        "> <br> **cd_pais**: País\n",
        "> <br> **ind_inadimpl**: Target: 1 Indica que o Cliente deve ser considerado Inadimplente\n",
        "> <br> **cd_contrato**: Contrato Cliente avaliado\n",
        "> <br> **data_abertura**: Data abertura contrato\n",
        "> <br> **regiao_moradia**: Região Brasileira endereço Cliente\n",
        "> <br> **contratos_anteriores**: Quantidade de contratos já abertos\n",
        "> <br> **data_primeiro_contrato**: Data da primeira contratação\n",
        "> <br> **tempo_primeiro_contrato**: Número de meses inteiros entre a data de abertura do primeiro contrato do cliente e a data de abertura do contrato de referência.\n",
        "> <br> **situacao_pagamento**: Status financeiro atual\n",
        "> <br> **tempo_maximo_atraso**: Ageing máximo que atrasou um pagamento\n",
        "> <br> **atraso_anterior**: Indica se o cliente, na data da abertura do contrato de referência, tinha valores vencidos em aberto. Contém as categorias “Nenhuma fatura anterior”, “Faturas quitadas” e “Tem valores em aberto”.</br>\n",
        "\n",
        "\n",
        "\n",
        "* Manipulação base de dados - Ajuste variável 'dt_nascimento' e criação coluna Mês e Ano do Contatro de Referência"
      ]
    },
    {
      "cell_type": "code",
      "metadata": {
        "id": "t_DJt-LUz2Ei",
        "outputId": "40a7d57d-453b-43b9-d6c2-6ec3f6503fad",
        "colab": {
          "base_uri": "https://localhost:8080/",
          "height": 309
        }
      },
      "source": [
        "base_dados['data_nascimento'] = pd.to_datetime(base_dados['dt_nascimento'], utc=False)\n",
        "\n",
        "base_dados.head()"
      ],
      "execution_count": 8,
      "outputs": [
        {
          "output_type": "execute_result",
          "data": {
            "text/html": [
              "<div>\n",
              "<style scoped>\n",
              "    .dataframe tbody tr th:only-of-type {\n",
              "        vertical-align: middle;\n",
              "    }\n",
              "\n",
              "    .dataframe tbody tr th {\n",
              "        vertical-align: top;\n",
              "    }\n",
              "\n",
              "    .dataframe thead th {\n",
              "        text-align: right;\n",
              "    }\n",
              "</style>\n",
              "<table border=\"1\" class=\"dataframe\">\n",
              "  <thead>\n",
              "    <tr style=\"text-align: right;\">\n",
              "      <th></th>\n",
              "      <th>Cliente</th>\n",
              "      <th>dt_nascimento</th>\n",
              "      <th>cd_estado</th>\n",
              "      <th>cd_pais</th>\n",
              "      <th>ind_inadimpl</th>\n",
              "      <th>cd_contrato</th>\n",
              "      <th>data_abertura</th>\n",
              "      <th>regiao_moradia</th>\n",
              "      <th>contratos_anteriores</th>\n",
              "      <th>data_primeiro_contrato</th>\n",
              "      <th>tempo_primeiro_contrato</th>\n",
              "      <th>situacao_pagamento</th>\n",
              "      <th>tempo_maximo_atraso</th>\n",
              "      <th>atraso_anterior</th>\n",
              "      <th>data_nascimento</th>\n",
              "    </tr>\n",
              "  </thead>\n",
              "  <tbody>\n",
              "    <tr>\n",
              "      <th>0</th>\n",
              "      <td>d7f109c2528d9e67b0a4aefc506e0829</td>\n",
              "      <td>1928/01/18 00:00:00</td>\n",
              "      <td>PE</td>\n",
              "      <td>55</td>\n",
              "      <td>1</td>\n",
              "      <td>5c0df077b7e4059882c71d545ada5d02</td>\n",
              "      <td>08/02/2018</td>\n",
              "      <td>Nordeste</td>\n",
              "      <td>3</td>\n",
              "      <td>20/01/2018</td>\n",
              "      <td>0</td>\n",
              "      <td>Faturas quitadas</td>\n",
              "      <td>0</td>\n",
              "      <td>Nenhum atraso anterior</td>\n",
              "      <td>1928-01-18</td>\n",
              "    </tr>\n",
              "    <tr>\n",
              "      <th>1</th>\n",
              "      <td>ed686356fc436976a2a1bc6b0ba4b689</td>\n",
              "      <td>1930/03/20 00:00:00</td>\n",
              "      <td>SP</td>\n",
              "      <td>55</td>\n",
              "      <td>1</td>\n",
              "      <td>bba0ba46d3014b8730d46ee517bd26ac</td>\n",
              "      <td>13/12/2018</td>\n",
              "      <td>São Paulo</td>\n",
              "      <td>6</td>\n",
              "      <td>14/06/1996</td>\n",
              "      <td>269</td>\n",
              "      <td>Faturas quitadas</td>\n",
              "      <td>20</td>\n",
              "      <td>Até 30 dias de atraso</td>\n",
              "      <td>1930-03-20</td>\n",
              "    </tr>\n",
              "    <tr>\n",
              "      <th>2</th>\n",
              "      <td>b1934e915a7613f4f045c7bb1e650da4</td>\n",
              "      <td>1930/05/06 00:00:00</td>\n",
              "      <td>SP</td>\n",
              "      <td>55</td>\n",
              "      <td>1</td>\n",
              "      <td>5568836053503c035f5647dca25fd637</td>\n",
              "      <td>03/01/2019</td>\n",
              "      <td>São Paulo</td>\n",
              "      <td>0</td>\n",
              "      <td>03/01/2019</td>\n",
              "      <td>0</td>\n",
              "      <td>Nenhuma fatura anterior</td>\n",
              "      <td>0</td>\n",
              "      <td>Nenhum atraso anterior</td>\n",
              "      <td>1930-05-06</td>\n",
              "    </tr>\n",
              "    <tr>\n",
              "      <th>3</th>\n",
              "      <td>fcf19843ab8de3a1e3c4384cf7b076cb</td>\n",
              "      <td>1931/08/27 00:00:00</td>\n",
              "      <td>SP</td>\n",
              "      <td>55</td>\n",
              "      <td>1</td>\n",
              "      <td>6a0c1170901c77a878f174c870969085</td>\n",
              "      <td>20/04/2018</td>\n",
              "      <td>São Paulo</td>\n",
              "      <td>1</td>\n",
              "      <td>06/09/2017</td>\n",
              "      <td>7</td>\n",
              "      <td>Faturas quitadas</td>\n",
              "      <td>127</td>\n",
              "      <td>Mais de 30 dias de atraso</td>\n",
              "      <td>1931-08-27</td>\n",
              "    </tr>\n",
              "    <tr>\n",
              "      <th>4</th>\n",
              "      <td>360f4c4d9c168f6c09aa5cd76d4f575c</td>\n",
              "      <td>1931/09/30 00:00:00</td>\n",
              "      <td>DF</td>\n",
              "      <td>55</td>\n",
              "      <td>1</td>\n",
              "      <td>3197dedf72fc4d8a20c7ee236cfff562</td>\n",
              "      <td>24/10/2018</td>\n",
              "      <td>Centro-Oeste</td>\n",
              "      <td>4</td>\n",
              "      <td>02/10/1995</td>\n",
              "      <td>276</td>\n",
              "      <td>Nenhuma fatura anterior</td>\n",
              "      <td>0</td>\n",
              "      <td>Nenhum atraso anterior</td>\n",
              "      <td>1931-09-30</td>\n",
              "    </tr>\n",
              "  </tbody>\n",
              "</table>\n",
              "</div>"
            ],
            "text/plain": [
              "                            Cliente  ... data_nascimento\n",
              "0  d7f109c2528d9e67b0a4aefc506e0829  ...      1928-01-18\n",
              "1  ed686356fc436976a2a1bc6b0ba4b689  ...      1930-03-20\n",
              "2  b1934e915a7613f4f045c7bb1e650da4  ...      1930-05-06\n",
              "3  fcf19843ab8de3a1e3c4384cf7b076cb  ...      1931-08-27\n",
              "4  360f4c4d9c168f6c09aa5cd76d4f575c  ...      1931-09-30\n",
              "\n",
              "[5 rows x 15 columns]"
            ]
          },
          "metadata": {
            "tags": []
          },
          "execution_count": 8
        }
      ]
    },
    {
      "cell_type": "code",
      "metadata": {
        "id": "jjlizgZRL-Ow",
        "outputId": "43b0eefe-da17-44dd-ef7e-72f2e28e37ff",
        "colab": {
          "base_uri": "https://localhost:8080/",
          "height": 309
        }
      },
      "source": [
        "base_dados['data_nascimento'] = base_dados['data_nascimento'].apply(lambda x: x.strftime('%d/%m/%Y'))\n",
        "\n",
        "base_dados.head()"
      ],
      "execution_count": 9,
      "outputs": [
        {
          "output_type": "execute_result",
          "data": {
            "text/html": [
              "<div>\n",
              "<style scoped>\n",
              "    .dataframe tbody tr th:only-of-type {\n",
              "        vertical-align: middle;\n",
              "    }\n",
              "\n",
              "    .dataframe tbody tr th {\n",
              "        vertical-align: top;\n",
              "    }\n",
              "\n",
              "    .dataframe thead th {\n",
              "        text-align: right;\n",
              "    }\n",
              "</style>\n",
              "<table border=\"1\" class=\"dataframe\">\n",
              "  <thead>\n",
              "    <tr style=\"text-align: right;\">\n",
              "      <th></th>\n",
              "      <th>Cliente</th>\n",
              "      <th>dt_nascimento</th>\n",
              "      <th>cd_estado</th>\n",
              "      <th>cd_pais</th>\n",
              "      <th>ind_inadimpl</th>\n",
              "      <th>cd_contrato</th>\n",
              "      <th>data_abertura</th>\n",
              "      <th>regiao_moradia</th>\n",
              "      <th>contratos_anteriores</th>\n",
              "      <th>data_primeiro_contrato</th>\n",
              "      <th>tempo_primeiro_contrato</th>\n",
              "      <th>situacao_pagamento</th>\n",
              "      <th>tempo_maximo_atraso</th>\n",
              "      <th>atraso_anterior</th>\n",
              "      <th>data_nascimento</th>\n",
              "    </tr>\n",
              "  </thead>\n",
              "  <tbody>\n",
              "    <tr>\n",
              "      <th>0</th>\n",
              "      <td>d7f109c2528d9e67b0a4aefc506e0829</td>\n",
              "      <td>1928/01/18 00:00:00</td>\n",
              "      <td>PE</td>\n",
              "      <td>55</td>\n",
              "      <td>1</td>\n",
              "      <td>5c0df077b7e4059882c71d545ada5d02</td>\n",
              "      <td>08/02/2018</td>\n",
              "      <td>Nordeste</td>\n",
              "      <td>3</td>\n",
              "      <td>20/01/2018</td>\n",
              "      <td>0</td>\n",
              "      <td>Faturas quitadas</td>\n",
              "      <td>0</td>\n",
              "      <td>Nenhum atraso anterior</td>\n",
              "      <td>18/01/1928</td>\n",
              "    </tr>\n",
              "    <tr>\n",
              "      <th>1</th>\n",
              "      <td>ed686356fc436976a2a1bc6b0ba4b689</td>\n",
              "      <td>1930/03/20 00:00:00</td>\n",
              "      <td>SP</td>\n",
              "      <td>55</td>\n",
              "      <td>1</td>\n",
              "      <td>bba0ba46d3014b8730d46ee517bd26ac</td>\n",
              "      <td>13/12/2018</td>\n",
              "      <td>São Paulo</td>\n",
              "      <td>6</td>\n",
              "      <td>14/06/1996</td>\n",
              "      <td>269</td>\n",
              "      <td>Faturas quitadas</td>\n",
              "      <td>20</td>\n",
              "      <td>Até 30 dias de atraso</td>\n",
              "      <td>20/03/1930</td>\n",
              "    </tr>\n",
              "    <tr>\n",
              "      <th>2</th>\n",
              "      <td>b1934e915a7613f4f045c7bb1e650da4</td>\n",
              "      <td>1930/05/06 00:00:00</td>\n",
              "      <td>SP</td>\n",
              "      <td>55</td>\n",
              "      <td>1</td>\n",
              "      <td>5568836053503c035f5647dca25fd637</td>\n",
              "      <td>03/01/2019</td>\n",
              "      <td>São Paulo</td>\n",
              "      <td>0</td>\n",
              "      <td>03/01/2019</td>\n",
              "      <td>0</td>\n",
              "      <td>Nenhuma fatura anterior</td>\n",
              "      <td>0</td>\n",
              "      <td>Nenhum atraso anterior</td>\n",
              "      <td>06/05/1930</td>\n",
              "    </tr>\n",
              "    <tr>\n",
              "      <th>3</th>\n",
              "      <td>fcf19843ab8de3a1e3c4384cf7b076cb</td>\n",
              "      <td>1931/08/27 00:00:00</td>\n",
              "      <td>SP</td>\n",
              "      <td>55</td>\n",
              "      <td>1</td>\n",
              "      <td>6a0c1170901c77a878f174c870969085</td>\n",
              "      <td>20/04/2018</td>\n",
              "      <td>São Paulo</td>\n",
              "      <td>1</td>\n",
              "      <td>06/09/2017</td>\n",
              "      <td>7</td>\n",
              "      <td>Faturas quitadas</td>\n",
              "      <td>127</td>\n",
              "      <td>Mais de 30 dias de atraso</td>\n",
              "      <td>27/08/1931</td>\n",
              "    </tr>\n",
              "    <tr>\n",
              "      <th>4</th>\n",
              "      <td>360f4c4d9c168f6c09aa5cd76d4f575c</td>\n",
              "      <td>1931/09/30 00:00:00</td>\n",
              "      <td>DF</td>\n",
              "      <td>55</td>\n",
              "      <td>1</td>\n",
              "      <td>3197dedf72fc4d8a20c7ee236cfff562</td>\n",
              "      <td>24/10/2018</td>\n",
              "      <td>Centro-Oeste</td>\n",
              "      <td>4</td>\n",
              "      <td>02/10/1995</td>\n",
              "      <td>276</td>\n",
              "      <td>Nenhuma fatura anterior</td>\n",
              "      <td>0</td>\n",
              "      <td>Nenhum atraso anterior</td>\n",
              "      <td>30/09/1931</td>\n",
              "    </tr>\n",
              "  </tbody>\n",
              "</table>\n",
              "</div>"
            ],
            "text/plain": [
              "                            Cliente  ... data_nascimento\n",
              "0  d7f109c2528d9e67b0a4aefc506e0829  ...      18/01/1928\n",
              "1  ed686356fc436976a2a1bc6b0ba4b689  ...      20/03/1930\n",
              "2  b1934e915a7613f4f045c7bb1e650da4  ...      06/05/1930\n",
              "3  fcf19843ab8de3a1e3c4384cf7b076cb  ...      27/08/1931\n",
              "4  360f4c4d9c168f6c09aa5cd76d4f575c  ...      30/09/1931\n",
              "\n",
              "[5 rows x 15 columns]"
            ]
          },
          "metadata": {
            "tags": []
          },
          "execution_count": 9
        }
      ]
    },
    {
      "cell_type": "code",
      "metadata": {
        "id": "6V2OhRSGnFlK",
        "outputId": "9f620753-d9bf-4fac-ec0b-cb81feb67931",
        "colab": {
          "base_uri": "https://localhost:8080/",
          "height": 309
        }
      },
      "source": [
        "base_dados['ano_contrato'], base_dados['mes_contrato'] = pd.DatetimeIndex(base_dados['data_abertura']).year, pd.DatetimeIndex(base_dados['data_abertura']).month\n",
        "\n",
        "base_dados.head()"
      ],
      "execution_count": 10,
      "outputs": [
        {
          "output_type": "execute_result",
          "data": {
            "text/html": [
              "<div>\n",
              "<style scoped>\n",
              "    .dataframe tbody tr th:only-of-type {\n",
              "        vertical-align: middle;\n",
              "    }\n",
              "\n",
              "    .dataframe tbody tr th {\n",
              "        vertical-align: top;\n",
              "    }\n",
              "\n",
              "    .dataframe thead th {\n",
              "        text-align: right;\n",
              "    }\n",
              "</style>\n",
              "<table border=\"1\" class=\"dataframe\">\n",
              "  <thead>\n",
              "    <tr style=\"text-align: right;\">\n",
              "      <th></th>\n",
              "      <th>Cliente</th>\n",
              "      <th>dt_nascimento</th>\n",
              "      <th>cd_estado</th>\n",
              "      <th>cd_pais</th>\n",
              "      <th>ind_inadimpl</th>\n",
              "      <th>cd_contrato</th>\n",
              "      <th>data_abertura</th>\n",
              "      <th>regiao_moradia</th>\n",
              "      <th>contratos_anteriores</th>\n",
              "      <th>data_primeiro_contrato</th>\n",
              "      <th>tempo_primeiro_contrato</th>\n",
              "      <th>situacao_pagamento</th>\n",
              "      <th>tempo_maximo_atraso</th>\n",
              "      <th>atraso_anterior</th>\n",
              "      <th>data_nascimento</th>\n",
              "      <th>ano_contrato</th>\n",
              "      <th>mes_contrato</th>\n",
              "    </tr>\n",
              "  </thead>\n",
              "  <tbody>\n",
              "    <tr>\n",
              "      <th>0</th>\n",
              "      <td>d7f109c2528d9e67b0a4aefc506e0829</td>\n",
              "      <td>1928/01/18 00:00:00</td>\n",
              "      <td>PE</td>\n",
              "      <td>55</td>\n",
              "      <td>1</td>\n",
              "      <td>5c0df077b7e4059882c71d545ada5d02</td>\n",
              "      <td>08/02/2018</td>\n",
              "      <td>Nordeste</td>\n",
              "      <td>3</td>\n",
              "      <td>20/01/2018</td>\n",
              "      <td>0</td>\n",
              "      <td>Faturas quitadas</td>\n",
              "      <td>0</td>\n",
              "      <td>Nenhum atraso anterior</td>\n",
              "      <td>18/01/1928</td>\n",
              "      <td>2018</td>\n",
              "      <td>8</td>\n",
              "    </tr>\n",
              "    <tr>\n",
              "      <th>1</th>\n",
              "      <td>ed686356fc436976a2a1bc6b0ba4b689</td>\n",
              "      <td>1930/03/20 00:00:00</td>\n",
              "      <td>SP</td>\n",
              "      <td>55</td>\n",
              "      <td>1</td>\n",
              "      <td>bba0ba46d3014b8730d46ee517bd26ac</td>\n",
              "      <td>13/12/2018</td>\n",
              "      <td>São Paulo</td>\n",
              "      <td>6</td>\n",
              "      <td>14/06/1996</td>\n",
              "      <td>269</td>\n",
              "      <td>Faturas quitadas</td>\n",
              "      <td>20</td>\n",
              "      <td>Até 30 dias de atraso</td>\n",
              "      <td>20/03/1930</td>\n",
              "      <td>2018</td>\n",
              "      <td>12</td>\n",
              "    </tr>\n",
              "    <tr>\n",
              "      <th>2</th>\n",
              "      <td>b1934e915a7613f4f045c7bb1e650da4</td>\n",
              "      <td>1930/05/06 00:00:00</td>\n",
              "      <td>SP</td>\n",
              "      <td>55</td>\n",
              "      <td>1</td>\n",
              "      <td>5568836053503c035f5647dca25fd637</td>\n",
              "      <td>03/01/2019</td>\n",
              "      <td>São Paulo</td>\n",
              "      <td>0</td>\n",
              "      <td>03/01/2019</td>\n",
              "      <td>0</td>\n",
              "      <td>Nenhuma fatura anterior</td>\n",
              "      <td>0</td>\n",
              "      <td>Nenhum atraso anterior</td>\n",
              "      <td>06/05/1930</td>\n",
              "      <td>2019</td>\n",
              "      <td>3</td>\n",
              "    </tr>\n",
              "    <tr>\n",
              "      <th>3</th>\n",
              "      <td>fcf19843ab8de3a1e3c4384cf7b076cb</td>\n",
              "      <td>1931/08/27 00:00:00</td>\n",
              "      <td>SP</td>\n",
              "      <td>55</td>\n",
              "      <td>1</td>\n",
              "      <td>6a0c1170901c77a878f174c870969085</td>\n",
              "      <td>20/04/2018</td>\n",
              "      <td>São Paulo</td>\n",
              "      <td>1</td>\n",
              "      <td>06/09/2017</td>\n",
              "      <td>7</td>\n",
              "      <td>Faturas quitadas</td>\n",
              "      <td>127</td>\n",
              "      <td>Mais de 30 dias de atraso</td>\n",
              "      <td>27/08/1931</td>\n",
              "      <td>2018</td>\n",
              "      <td>4</td>\n",
              "    </tr>\n",
              "    <tr>\n",
              "      <th>4</th>\n",
              "      <td>360f4c4d9c168f6c09aa5cd76d4f575c</td>\n",
              "      <td>1931/09/30 00:00:00</td>\n",
              "      <td>DF</td>\n",
              "      <td>55</td>\n",
              "      <td>1</td>\n",
              "      <td>3197dedf72fc4d8a20c7ee236cfff562</td>\n",
              "      <td>24/10/2018</td>\n",
              "      <td>Centro-Oeste</td>\n",
              "      <td>4</td>\n",
              "      <td>02/10/1995</td>\n",
              "      <td>276</td>\n",
              "      <td>Nenhuma fatura anterior</td>\n",
              "      <td>0</td>\n",
              "      <td>Nenhum atraso anterior</td>\n",
              "      <td>30/09/1931</td>\n",
              "      <td>2018</td>\n",
              "      <td>10</td>\n",
              "    </tr>\n",
              "  </tbody>\n",
              "</table>\n",
              "</div>"
            ],
            "text/plain": [
              "                            Cliente  ... mes_contrato\n",
              "0  d7f109c2528d9e67b0a4aefc506e0829  ...            8\n",
              "1  ed686356fc436976a2a1bc6b0ba4b689  ...           12\n",
              "2  b1934e915a7613f4f045c7bb1e650da4  ...            3\n",
              "3  fcf19843ab8de3a1e3c4384cf7b076cb  ...            4\n",
              "4  360f4c4d9c168f6c09aa5cd76d4f575c  ...           10\n",
              "\n",
              "[5 rows x 17 columns]"
            ]
          },
          "metadata": {
            "tags": []
          },
          "execution_count": 10
        }
      ]
    },
    {
      "cell_type": "markdown",
      "metadata": {
        "id": "pYL3rT8rVxOu"
      },
      "source": [
        "* Conferência e ajuste de valores ausentes na base utilizada"
      ]
    },
    {
      "cell_type": "code",
      "metadata": {
        "id": "30bju9DawDml",
        "outputId": "981b94df-1f74-491a-8760-4a553b55dcae",
        "colab": {
          "base_uri": "https://localhost:8080/",
          "height": 323
        }
      },
      "source": [
        "#Verificação valores ausentes das variáveis\n",
        "\n",
        "base_dados.isna().sum().sort_values(ascending=False)"
      ],
      "execution_count": 11,
      "outputs": [
        {
          "output_type": "execute_result",
          "data": {
            "text/plain": [
              "cd_estado                  20\n",
              "mes_contrato                0\n",
              "regiao_moradia              0\n",
              "dt_nascimento               0\n",
              "cd_pais                     0\n",
              "ind_inadimpl                0\n",
              "cd_contrato                 0\n",
              "data_abertura               0\n",
              "contratos_anteriores        0\n",
              "ano_contrato                0\n",
              "data_primeiro_contrato      0\n",
              "tempo_primeiro_contrato     0\n",
              "situacao_pagamento          0\n",
              "tempo_maximo_atraso         0\n",
              "atraso_anterior             0\n",
              "data_nascimento             0\n",
              "Cliente                     0\n",
              "dtype: int64"
            ]
          },
          "metadata": {
            "tags": []
          },
          "execution_count": 11
        }
      ]
    },
    {
      "cell_type": "code",
      "metadata": {
        "id": "2PgmzQh6yJAS",
        "outputId": "d2724262-bb46-4a92-a4b3-746d242b36dc",
        "colab": {
          "base_uri": "https://localhost:8080/",
          "height": 323
        }
      },
      "source": [
        "#Porcentagem valores ausentes das variáveis\n",
        "\n",
        "(base_dados.isna().sum()/base_dados.shape[0]).sort_values(ascending=False) *100"
      ],
      "execution_count": 12,
      "outputs": [
        {
          "output_type": "execute_result",
          "data": {
            "text/plain": [
              "cd_estado                  0.021825\n",
              "mes_contrato               0.000000\n",
              "regiao_moradia             0.000000\n",
              "dt_nascimento              0.000000\n",
              "cd_pais                    0.000000\n",
              "ind_inadimpl               0.000000\n",
              "cd_contrato                0.000000\n",
              "data_abertura              0.000000\n",
              "contratos_anteriores       0.000000\n",
              "ano_contrato               0.000000\n",
              "data_primeiro_contrato     0.000000\n",
              "tempo_primeiro_contrato    0.000000\n",
              "situacao_pagamento         0.000000\n",
              "tempo_maximo_atraso        0.000000\n",
              "atraso_anterior            0.000000\n",
              "data_nascimento            0.000000\n",
              "Cliente                    0.000000\n",
              "dtype: float64"
            ]
          },
          "metadata": {
            "tags": []
          },
          "execution_count": 12
        }
      ]
    },
    {
      "cell_type": "code",
      "metadata": {
        "id": "_tyIPIK864Wm"
      },
      "source": [
        "#Ajuste células NA/NaN  \n",
        "\n",
        "base_dados['cd_estado'] = SimpleImputer(missing_values=np.nan, strategy='constant', fill_value=\"Estrangeiro\")"
      ],
      "execution_count": 13,
      "outputs": []
    },
    {
      "cell_type": "code",
      "metadata": {
        "id": "5Q6umf4sCzns",
        "outputId": "20fea19b-5a41-4305-8ae0-c7342a597b7e",
        "colab": {
          "base_uri": "https://localhost:8080/",
          "height": 323
        }
      },
      "source": [
        "#Verificação ajuste células NA/NaN  \n",
        "\n",
        "base_dados.isna().sum().sort_values(ascending=False)"
      ],
      "execution_count": 14,
      "outputs": [
        {
          "output_type": "execute_result",
          "data": {
            "text/plain": [
              "mes_contrato               0\n",
              "regiao_moradia             0\n",
              "dt_nascimento              0\n",
              "cd_estado                  0\n",
              "cd_pais                    0\n",
              "ind_inadimpl               0\n",
              "cd_contrato                0\n",
              "data_abertura              0\n",
              "contratos_anteriores       0\n",
              "ano_contrato               0\n",
              "data_primeiro_contrato     0\n",
              "tempo_primeiro_contrato    0\n",
              "situacao_pagamento         0\n",
              "tempo_maximo_atraso        0\n",
              "atraso_anterior            0\n",
              "data_nascimento            0\n",
              "Cliente                    0\n",
              "dtype: int64"
            ]
          },
          "metadata": {
            "tags": []
          },
          "execution_count": 14
        }
      ]
    },
    {
      "cell_type": "markdown",
      "metadata": {
        "id": "y7ClnXxGVqdI"
      },
      "source": [
        "#Análise Descritiva"
      ]
    },
    {
      "cell_type": "markdown",
      "metadata": {
        "id": "QI5IaPo-D8E9"
      },
      "source": [
        "* A seguir, tem-se a análise descritiva."
      ]
    },
    {
      "cell_type": "code",
      "metadata": {
        "id": "PcOoTF3hPgDP",
        "outputId": "867cfc13-07e2-4c3d-c8b6-54847eacc393",
        "colab": {
          "base_uri": "https://localhost:8080/",
          "height": 317
        }
      },
      "source": [
        "base_dados.describe()"
      ],
      "execution_count": 15,
      "outputs": [
        {
          "output_type": "execute_result",
          "data": {
            "text/html": [
              "<div>\n",
              "<style scoped>\n",
              "    .dataframe tbody tr th:only-of-type {\n",
              "        vertical-align: middle;\n",
              "    }\n",
              "\n",
              "    .dataframe tbody tr th {\n",
              "        vertical-align: top;\n",
              "    }\n",
              "\n",
              "    .dataframe thead th {\n",
              "        text-align: right;\n",
              "    }\n",
              "</style>\n",
              "<table border=\"1\" class=\"dataframe\">\n",
              "  <thead>\n",
              "    <tr style=\"text-align: right;\">\n",
              "      <th></th>\n",
              "      <th>cd_pais</th>\n",
              "      <th>ind_inadimpl</th>\n",
              "      <th>contratos_anteriores</th>\n",
              "      <th>tempo_primeiro_contrato</th>\n",
              "      <th>tempo_maximo_atraso</th>\n",
              "      <th>ano_contrato</th>\n",
              "      <th>mes_contrato</th>\n",
              "    </tr>\n",
              "  </thead>\n",
              "  <tbody>\n",
              "    <tr>\n",
              "      <th>count</th>\n",
              "      <td>91638.000000</td>\n",
              "      <td>91638.000000</td>\n",
              "      <td>91638.000000</td>\n",
              "      <td>91638.000000</td>\n",
              "      <td>91638.000000</td>\n",
              "      <td>91638.000000</td>\n",
              "      <td>91638.000000</td>\n",
              "    </tr>\n",
              "    <tr>\n",
              "      <th>mean</th>\n",
              "      <td>55.907495</td>\n",
              "      <td>0.260754</td>\n",
              "      <td>4.004638</td>\n",
              "      <td>43.701718</td>\n",
              "      <td>10.481580</td>\n",
              "      <td>2018.364456</td>\n",
              "      <td>6.077686</td>\n",
              "    </tr>\n",
              "    <tr>\n",
              "      <th>std</th>\n",
              "      <td>28.874351</td>\n",
              "      <td>0.439048</td>\n",
              "      <td>11.160166</td>\n",
              "      <td>62.906954</td>\n",
              "      <td>1195.315658</td>\n",
              "      <td>0.481280</td>\n",
              "      <td>3.424421</td>\n",
              "    </tr>\n",
              "    <tr>\n",
              "      <th>min</th>\n",
              "      <td>1.000000</td>\n",
              "      <td>0.000000</td>\n",
              "      <td>0.000000</td>\n",
              "      <td>0.000000</td>\n",
              "      <td>0.000000</td>\n",
              "      <td>2018.000000</td>\n",
              "      <td>1.000000</td>\n",
              "    </tr>\n",
              "    <tr>\n",
              "      <th>25%</th>\n",
              "      <td>55.000000</td>\n",
              "      <td>0.000000</td>\n",
              "      <td>0.000000</td>\n",
              "      <td>0.000000</td>\n",
              "      <td>0.000000</td>\n",
              "      <td>2018.000000</td>\n",
              "      <td>3.000000</td>\n",
              "    </tr>\n",
              "    <tr>\n",
              "      <th>50%</th>\n",
              "      <td>55.000000</td>\n",
              "      <td>0.000000</td>\n",
              "      <td>1.000000</td>\n",
              "      <td>13.000000</td>\n",
              "      <td>0.000000</td>\n",
              "      <td>2018.000000</td>\n",
              "      <td>6.000000</td>\n",
              "    </tr>\n",
              "    <tr>\n",
              "      <th>75%</th>\n",
              "      <td>55.000000</td>\n",
              "      <td>1.000000</td>\n",
              "      <td>3.000000</td>\n",
              "      <td>69.000000</td>\n",
              "      <td>0.000000</td>\n",
              "      <td>2019.000000</td>\n",
              "      <td>9.000000</td>\n",
              "    </tr>\n",
              "    <tr>\n",
              "      <th>max</th>\n",
              "      <td>1025.000000</td>\n",
              "      <td>1.000000</td>\n",
              "      <td>528.000000</td>\n",
              "      <td>298.000000</td>\n",
              "      <td>361566.000000</td>\n",
              "      <td>2019.000000</td>\n",
              "      <td>12.000000</td>\n",
              "    </tr>\n",
              "  </tbody>\n",
              "</table>\n",
              "</div>"
            ],
            "text/plain": [
              "            cd_pais  ind_inadimpl  ...  ano_contrato  mes_contrato\n",
              "count  91638.000000  91638.000000  ...  91638.000000  91638.000000\n",
              "mean      55.907495      0.260754  ...   2018.364456      6.077686\n",
              "std       28.874351      0.439048  ...      0.481280      3.424421\n",
              "min        1.000000      0.000000  ...   2018.000000      1.000000\n",
              "25%       55.000000      0.000000  ...   2018.000000      3.000000\n",
              "50%       55.000000      0.000000  ...   2018.000000      6.000000\n",
              "75%       55.000000      1.000000  ...   2019.000000      9.000000\n",
              "max     1025.000000      1.000000  ...   2019.000000     12.000000\n",
              "\n",
              "[8 rows x 7 columns]"
            ]
          },
          "metadata": {
            "tags": []
          },
          "execution_count": 15
        }
      ]
    },
    {
      "cell_type": "markdown",
      "metadata": {
        "id": "xsNXNrvFGLtj"
      },
      "source": [
        "* A variável 'contratos_anteriores' tem como mínimo 0, máximo 525 e desvio padrão de 11. Na média, os cliente analisados já abriram 4 contratos anteriores ao contrato de referência da base de dados.\n",
        "\n",
        "* Na média, os clientes da base de dados abriram seu primeiro contrato 44 meses anteriores ao contrato de referência considerado. O cliente mais antigo da base utilizada realizou seu primeiro contrato 298 meses anteriores ao contrato de referência considerado.\n",
        "\n",
        "* O maior aging observado corresponde a 361.566."
      ]
    },
    {
      "cell_type": "code",
      "metadata": {
        "id": "3OiraSpEe8e8",
        "outputId": "2ffbb73c-3032-4322-c8de-25f1928b4130",
        "colab": {
          "base_uri": "https://localhost:8080/",
          "height": 170
        }
      },
      "source": [
        "#Clientes inadimplentes por Grandes Regiões, SP, RJ e Estrangeiro\n",
        "\n",
        "base_dados.query(\"ind_inadimpl == 1\")[\"regiao_moradia\"].value_counts().sort_index()"
      ],
      "execution_count": 16,
      "outputs": [
        {
          "output_type": "execute_result",
          "data": {
            "text/plain": [
              "Centro-Oeste      2033\n",
              "Estrangeiro         87\n",
              "Nordeste          3481\n",
              "Norte             1448\n",
              "Rio de Janeiro    2401\n",
              "Sudeste           2624\n",
              "Sul               3288\n",
              "São Paulo         8533\n",
              "Name: regiao_moradia, dtype: int64"
            ]
          },
          "metadata": {
            "tags": []
          },
          "execution_count": 16
        }
      ]
    },
    {
      "cell_type": "code",
      "metadata": {
        "id": "mZQYDMKUfmTM",
        "outputId": "bc928edb-4b94-49f0-a7dd-3ba41dca4dbf",
        "colab": {
          "base_uri": "https://localhost:8080/",
          "height": 170
        }
      },
      "source": [
        "#Clientes adimplentes por Grandes Regiões, SP, RJ e Estrangeiro\n",
        "\n",
        "base_dados.query(\"ind_inadimpl == 0\")[\"regiao_moradia\"].value_counts().sort_index()"
      ],
      "execution_count": 17,
      "outputs": [
        {
          "output_type": "execute_result",
          "data": {
            "text/plain": [
              "Centro-Oeste       6555\n",
              "Estrangeiro         530\n",
              "Nordeste           7856\n",
              "Norte              2755\n",
              "Rio de Janeiro     7727\n",
              "Sudeste            7673\n",
              "Sul                9803\n",
              "São Paulo         24844\n",
              "Name: regiao_moradia, dtype: int64"
            ]
          },
          "metadata": {
            "tags": []
          },
          "execution_count": 17
        }
      ]
    },
    {
      "cell_type": "markdown",
      "metadata": {
        "id": "hXYwKQqeRxfo"
      },
      "source": [
        "* Acima observa-se a maioria dos clientes Adimplentes e Inadimplentes encontra-se no Estado de São Paulo\n",
        "\n",
        "* A minoria dos clientes clientes Adimplentes e Inadimplentes encontra-se no Estrangeiro, seguida da Região Norte."
      ]
    },
    {
      "cell_type": "markdown",
      "metadata": {
        "id": "kpXJXrBAVjZk"
      },
      "source": [
        "#Análise Gráfica"
      ]
    },
    {
      "cell_type": "code",
      "metadata": {
        "id": "SjdD9m2_QhX-",
        "outputId": "54da4233-f4b4-4de3-d61d-65ba56662c7f",
        "colab": {
          "base_uri": "https://localhost:8080/",
          "height": 478
        }
      },
      "source": [
        "plt.figure(figsize=(10,7))\n",
        "\n",
        "plot1 = sns.countplot(x=\"regiao_moradia\", hue=\"ind_inadimpl\",\n",
        "                      palette= \"icefire\", data=base_dados)\n",
        "\n",
        "plot1.set_title('Índice Inadimplência por Grandes Regiões, SP, RJ e Estrangeiro')"
      ],
      "execution_count": 18,
      "outputs": [
        {
          "output_type": "execute_result",
          "data": {
            "text/plain": [
              "Text(0.5, 1.0, 'Índice Inadimplência por Grandes Regiões, SP, RJ e Estrangeiro')"
            ]
          },
          "metadata": {
            "tags": []
          },
          "execution_count": 18
        },
        {
          "output_type": "display_data",
          "data": {
            "image/png": "[encoded data removed]",
            "text/plain": [
              "<Figure size 720x504 with 1 Axes>"
            ]
          },
          "metadata": {
            "tags": [],
            "needs_background": "light"
          }
        }
      ]
    },
    {
      "cell_type": "markdown",
      "metadata": {
        "id": "lEMcLsqoS_Ps"
      },
      "source": [
        "* O gráfico acima apresenta visualmente os valores apresentados anterior a Análise Gráfica.\n",
        "\n",
        "* É possivel afirmar que a maioria dos clientes analisados são adimplentes nos contratos firmados em todas regiões de moradia consideradas."
      ]
    },
    {
      "cell_type": "code",
      "metadata": {
        "id": "lSN7ejwjSz_l",
        "outputId": "9378b1ac-c131-4ecb-a112-f7a9535b6849",
        "colab": {
          "base_uri": "https://localhost:8080/",
          "height": 478
        }
      },
      "source": [
        "plt.figure(figsize=(10,7))\n",
        "\n",
        "plot2 = sns.countplot(x=\"situacao_pagamento\", hue=\"ind_inadimpl\", \n",
        "                      palette= \"icefire\", data=base_dados)\n",
        "\n",
        "plot2.set_title('Índice Inadimplência por Situção de Pagamentos')"
      ],
      "execution_count": 19,
      "outputs": [
        {
          "output_type": "execute_result",
          "data": {
            "text/plain": [
              "Text(0.5, 1.0, 'Índice Inadimplência por Situção de Pagamentos')"
            ]
          },
          "metadata": {
            "tags": []
          },
          "execution_count": 19
        },
        {
          "output_type": "display_data",
          "data": {
            "image/png": "[encoded data removed]",
            "text/plain": [
              "<Figure size 720x504 with 1 Axes>"
            ]
          },
          "metadata": {
            "tags": [],
            "needs_background": "light"
          }
        }
      ]
    },
    {
      "cell_type": "markdown",
      "metadata": {
        "id": "xm67jWATTsao"
      },
      "source": [
        "* Somente na categoria 'Tem valores em aberto' que há mais clientes inadimplentes do que clientes adimplentes.\n",
        "\n",
        "* A maioria dos clientes adimplentes e inadiplemtes encontra-se na categoria 'Nenhuma fatura anterior'."
      ]
    },
    {
      "cell_type": "code",
      "metadata": {
        "id": "j-g-qriBUrQy",
        "outputId": "6584f279-9b78-4010-8794-8d348bcdfe30",
        "colab": {
          "base_uri": "https://localhost:8080/",
          "height": 476
        }
      },
      "source": [
        "plt.figure(figsize=(10,7))\n",
        "\n",
        "plot3 = sns.countplot(x=\"atraso_anterior\", hue=\"ind_inadimpl\", \n",
        "                      palette= \"icefire\", data=base_dados)\n",
        "\n",
        "plot3.set_title('Grandes Regiões, SP, RJ e Estrangeiro por Situção de Valores Vencidos em Aberto')"
      ],
      "execution_count": 21,
      "outputs": [
        {
          "output_type": "execute_result",
          "data": {
            "text/plain": [
              "Text(0.5, 1.0, 'Grandes Regiões, SP, RJ e Estrangeiro por Situção de Valores Vencidos em Aberto')"
            ]
          },
          "metadata": {
            "tags": []
          },
          "execution_count": 21
        },
        {
          "output_type": "display_data",
          "data": {
            "image/png": "[encoded data removed]",
            "text/plain": [
              "<Figure size 720x504 with 1 Axes>"
            ]
          },
          "metadata": {
            "tags": [],
            "needs_background": "light"
          }
        }
      ]
    },
    {
      "cell_type": "markdown",
      "metadata": {
        "id": "3wlX6b0kV8cj"
      },
      "source": [
        "* A maioria dos clientes adimplentes e inadiplemtes encontra-se na categoria 'Nenhum atraso anterior'.\n",
        "\n",
        "* A categoria 'Mais de 30 dias de atraso' possui a mesma quantidade de clientes adimplentes e inadimplentes."
      ]
    },
    {
      "cell_type": "code",
      "metadata": {
        "id": "nDZpmnuaVCAh",
        "outputId": "eed1129e-2fcd-465c-df11-1cb31973b6d5",
        "colab": {
          "base_uri": "https://localhost:8080/",
          "height": 476
        }
      },
      "source": [
        "plt.figure(figsize=(10,7))\n",
        "\n",
        "plot4 = sns.countplot(x=\"regiao_moradia\", hue=\"atraso_anterior\",\n",
        "                      palette= \"icefire\", data=base_dados)\n",
        "\n",
        "plot4.set_title('Grandes Regiões, SP, RJ e Estrangeiro por Situção de Valores Vencidos em Aberto')"
      ],
      "execution_count": 22,
      "outputs": [
        {
          "output_type": "execute_result",
          "data": {
            "text/plain": [
              "Text(0.5, 1.0, 'Grandes Regiões, SP, RJ e Estrangeiro por Situção de Valores Vencidos em Aberto')"
            ]
          },
          "metadata": {
            "tags": []
          },
          "execution_count": 22
        },
        {
          "output_type": "display_data",
          "data": {
            "image/png": "[encoded data removed]",
            "text/plain": [
              "<Figure size 720x504 with 1 Axes>"
            ]
          },
          "metadata": {
            "tags": [],
            "needs_background": "light"
          }
        }
      ]
    },
    {
      "cell_type": "markdown",
      "metadata": {
        "id": "o8oOL5eWWT2j"
      },
      "source": [
        "* Em todas as regiões e estados considerados, a maioria dos clientes não possuiam valores em aberto no momento do contrato de referência.\n",
        "\n",
        "* A categoria com menos clientes em todos as regiões e estados considerados é 'Mais de 30 dias de atraso'"
      ]
    },
    {
      "cell_type": "code",
      "metadata": {
        "id": "D0cX7H6ik1pO",
        "outputId": "d0758607-bc32-40d0-c377-673954a16f27",
        "colab": {
          "base_uri": "https://localhost:8080/",
          "height": 401
        }
      },
      "source": [
        "plt.figure(figsize=(10,7))\n",
        "\n",
        "plot5 = sns.catplot(x=\"mes_contrato\", hue=\"ind_inadimpl\", kind=\"count\",\n",
        "                      col=\"ano_contrato\", palette= \"icefire\", data=base_dados)\n",
        "\n"
      ],
      "execution_count": 23,
      "outputs": [
        {
          "output_type": "display_data",
          "data": {
            "text/plain": [
              "<Figure size 720x504 with 0 Axes>"
            ]
          },
          "metadata": {
            "tags": []
          }
        },
        {
          "output_type": "display_data",
          "data": {
            "image/png": "[encoded data removed]",
            "text/plain": [
              "<Figure size 792x360 with 2 Axes>"
            ]
          },
          "metadata": {
            "tags": [],
            "needs_background": "light"
          }
        }
      ]
    },
    {
      "cell_type": "markdown",
      "metadata": {
        "id": "T2as3p4uYI7T"
      },
      "source": [
        "* No ano de 2018, o mês com mais contratos de referência corresponde a dezembro, que é o mês com mais clientes adimplentes. O mês do contrato de referência com mais clientes inadimplentes corresponde a janeiro.\n",
        "\n",
        "* Já no ano de 2019, o mês com mais contratos de referência corresponde a janeiro, que é o mês com mais clientes adimplentes. O mês do contrato de referência com mais clientes inadimplentes corresponde a fevereiro.\n",
        "\n",
        "* Verifica-se que a maioria dos contratos de refrência foram realizados no ano de 2018."
      ]
    },
    {
      "cell_type": "markdown",
      "metadata": {
        "id": "W4rSVDEyV28C"
      },
      "source": [
        "* A correlação entre as variáveis numéricas tem por objetivo verificar a influência de cada variável em relação as demais, seja de forma positiva ou negativa. "
      ]
    },
    {
      "cell_type": "code",
      "metadata": {
        "id": "Mh67n_2Wzr10",
        "outputId": "11e7c0e7-a390-4adf-a7c6-6c3a2d192010",
        "colab": {
          "base_uri": "https://localhost:8080/",
          "height": 385
        }
      },
      "source": [
        "#Tabela correlação via Pearson que é o coeficiente de correlação padrão\n",
        "\n",
        "base_corr = base_dados.corr(method='pearson',  min_periods=1)\n",
        "\n",
        "#Heatmap\n",
        "\n",
        "heatmap = sns.heatmap(base_corr, annot=True)\n"
      ],
      "execution_count": 24,
      "outputs": [
        {
          "output_type": "display_data",
          "data": {
            "image/png": "[encoded data removed]",
            "text/plain": [
              "<Figure size 432x288 with 2 Axes>"
            ]
          },
          "metadata": {
            "tags": [],
            "needs_background": "light"
          }
        }
      ]
    },
    {
      "cell_type": "markdown",
      "metadata": {
        "id": "kEyikR_EbIyz"
      },
      "source": [
        "* Percebe-se que a maior influência positiva ocorre entre as variáveis 'contratos anteriores' e 'tempo_primeiro_contrato'.\n",
        "\n",
        "\n",
        "* A maior influência negativa está entre as variáveis 'ind_inapimpl' e 'tempo_primeiro_contrato'."
      ]
    },
    {
      "cell_type": "markdown",
      "metadata": {
        "id": "N0KKSK77fzYc"
      },
      "source": [
        "#Pré Processamento"
      ]
    },
    {
      "cell_type": "markdown",
      "metadata": {
        "id": "e6uCGIOCbxBY"
      },
      "source": [
        "* O pré processamento da base de dados consiste em retirar as variáveis que não fazem sentido compor o modelo de estatístico a ser desenvolvido, tais como identificador do cliente e identificador do contrato de referência e variáveis de data.\n",
        "\n",
        "* Após tal passo, as colunas numéricas são padronizadas em um intervalo entre 0 e 1, por não apresentarem valores negativos, e as variáveis categóricas são transformadas em variáveis dummies, onde 1 indica a ocorrência da categoria da variável."
      ]
    },
    {
      "cell_type": "code",
      "metadata": {
        "id": "NjgibaA-4lps"
      },
      "source": [
        "base_dados2 = base_dados.drop(['Cliente', 'dt_nascimento', 'cd_estado', 'cd_pais',\n",
        "                               'cd_contrato', 'data_abertura','data_primeiro_contrato',\n",
        "                               'data_nascimento', 'ano_contrato', 'mes_contrato'], \n",
        "                              axis=1, inplace=False)"
      ],
      "execution_count": 25,
      "outputs": []
    },
    {
      "cell_type": "code",
      "metadata": {
        "id": "Yb_I-F3goUmz",
        "outputId": "a77dce2c-20ad-4539-e0d8-e731f82d1e9b",
        "colab": {
          "base_uri": "https://localhost:8080/",
          "height": 255
        }
      },
      "source": [
        "base_dados2.info()"
      ],
      "execution_count": 26,
      "outputs": [
        {
          "output_type": "stream",
          "text": [
            "<class 'pandas.core.frame.DataFrame'>\n",
            "RangeIndex: 91638 entries, 0 to 91637\n",
            "Data columns (total 7 columns):\n",
            " #   Column                   Non-Null Count  Dtype \n",
            "---  ------                   --------------  ----- \n",
            " 0   ind_inadimpl             91638 non-null  int64 \n",
            " 1   regiao_moradia           91638 non-null  object\n",
            " 2   contratos_anteriores     91638 non-null  int64 \n",
            " 3   tempo_primeiro_contrato  91638 non-null  int64 \n",
            " 4   situacao_pagamento       91638 non-null  object\n",
            " 5   tempo_maximo_atraso      91638 non-null  int64 \n",
            " 6   atraso_anterior          91638 non-null  object\n",
            "dtypes: int64(4), object(3)\n",
            "memory usage: 4.9+ MB\n"
          ],
          "name": "stdout"
        }
      ]
    },
    {
      "cell_type": "code",
      "metadata": {
        "id": "8EHOEVLOgJI_",
        "outputId": "a4eb6ec5-e5b5-460e-c599-e5145fda5ba8",
        "colab": {
          "base_uri": "https://localhost:8080/",
          "height": 297
        }
      },
      "source": [
        "base_dados2.describe()"
      ],
      "execution_count": 27,
      "outputs": [
        {
          "output_type": "execute_result",
          "data": {
            "text/html": [
              "<div>\n",
              "<style scoped>\n",
              "    .dataframe tbody tr th:only-of-type {\n",
              "        vertical-align: middle;\n",
              "    }\n",
              "\n",
              "    .dataframe tbody tr th {\n",
              "        vertical-align: top;\n",
              "    }\n",
              "\n",
              "    .dataframe thead th {\n",
              "        text-align: right;\n",
              "    }\n",
              "</style>\n",
              "<table border=\"1\" class=\"dataframe\">\n",
              "  <thead>\n",
              "    <tr style=\"text-align: right;\">\n",
              "      <th></th>\n",
              "      <th>ind_inadimpl</th>\n",
              "      <th>contratos_anteriores</th>\n",
              "      <th>tempo_primeiro_contrato</th>\n",
              "      <th>tempo_maximo_atraso</th>\n",
              "    </tr>\n",
              "  </thead>\n",
              "  <tbody>\n",
              "    <tr>\n",
              "      <th>count</th>\n",
              "      <td>91638.000000</td>\n",
              "      <td>91638.000000</td>\n",
              "      <td>91638.000000</td>\n",
              "      <td>91638.000000</td>\n",
              "    </tr>\n",
              "    <tr>\n",
              "      <th>mean</th>\n",
              "      <td>0.260754</td>\n",
              "      <td>4.004638</td>\n",
              "      <td>43.701718</td>\n",
              "      <td>10.481580</td>\n",
              "    </tr>\n",
              "    <tr>\n",
              "      <th>std</th>\n",
              "      <td>0.439048</td>\n",
              "      <td>11.160166</td>\n",
              "      <td>62.906954</td>\n",
              "      <td>1195.315658</td>\n",
              "    </tr>\n",
              "    <tr>\n",
              "      <th>min</th>\n",
              "      <td>0.000000</td>\n",
              "      <td>0.000000</td>\n",
              "      <td>0.000000</td>\n",
              "      <td>0.000000</td>\n",
              "    </tr>\n",
              "    <tr>\n",
              "      <th>25%</th>\n",
              "      <td>0.000000</td>\n",
              "      <td>0.000000</td>\n",
              "      <td>0.000000</td>\n",
              "      <td>0.000000</td>\n",
              "    </tr>\n",
              "    <tr>\n",
              "      <th>50%</th>\n",
              "      <td>0.000000</td>\n",
              "      <td>1.000000</td>\n",
              "      <td>13.000000</td>\n",
              "      <td>0.000000</td>\n",
              "    </tr>\n",
              "    <tr>\n",
              "      <th>75%</th>\n",
              "      <td>1.000000</td>\n",
              "      <td>3.000000</td>\n",
              "      <td>69.000000</td>\n",
              "      <td>0.000000</td>\n",
              "    </tr>\n",
              "    <tr>\n",
              "      <th>max</th>\n",
              "      <td>1.000000</td>\n",
              "      <td>528.000000</td>\n",
              "      <td>298.000000</td>\n",
              "      <td>361566.000000</td>\n",
              "    </tr>\n",
              "  </tbody>\n",
              "</table>\n",
              "</div>"
            ],
            "text/plain": [
              "       ind_inadimpl  ...  tempo_maximo_atraso\n",
              "count  91638.000000  ...         91638.000000\n",
              "mean       0.260754  ...            10.481580\n",
              "std        0.439048  ...          1195.315658\n",
              "min        0.000000  ...             0.000000\n",
              "25%        0.000000  ...             0.000000\n",
              "50%        0.000000  ...             0.000000\n",
              "75%        1.000000  ...             0.000000\n",
              "max        1.000000  ...        361566.000000\n",
              "\n",
              "[8 rows x 4 columns]"
            ]
          },
          "metadata": {
            "tags": []
          },
          "execution_count": 27
        }
      ]
    },
    {
      "cell_type": "code",
      "metadata": {
        "id": "UcZluyfpr1rA"
      },
      "source": [
        "#Colunas numéricas - Transformação para intervalo\n",
        "\n",
        "base_num = base_dados2.select_dtypes(exclude=['object'])\n",
        "\n",
        "#Método para reescalar variáveis numéricas: MinMaxScaler() \n",
        "#Justificativa: Preserva a distribuição original das variáveis e o cálculo\n",
        "#de reescalonamento é independente entre as variáveis\n",
        "\n",
        "scaler = MinMaxScaler()\n",
        "\n",
        "X_num = scaler.fit_transform(base_num)\n",
        "\n",
        "base_num_input = pd.DataFrame(X_num, index=base_num.index, columns=base_num.columns)"
      ],
      "execution_count": 28,
      "outputs": []
    },
    {
      "cell_type": "code",
      "metadata": {
        "id": "VYAA-dTnpmWU"
      },
      "source": [
        "#Colunas categóricas - Transformação para dummies\n",
        "\n",
        "base_cat = base_dados2.select_dtypes(include=['object'])\n",
        "\n",
        "base_cat = pd.get_dummies(base_cat, drop_first=False)"
      ],
      "execution_count": 29,
      "outputs": []
    },
    {
      "cell_type": "code",
      "metadata": {
        "id": "qQXUnMcLrls1",
        "outputId": "2d2ed450-8546-4465-b875-826b74cb8235",
        "colab": {
          "base_uri": "https://localhost:8080/",
          "height": 241
        }
      },
      "source": [
        "base_prepared = pd.concat([base_num_input, base_cat], axis=1)\n",
        "base_prepared.head()"
      ],
      "execution_count": 30,
      "outputs": [
        {
          "output_type": "execute_result",
          "data": {
            "text/html": [
              "<div>\n",
              "<style scoped>\n",
              "    .dataframe tbody tr th:only-of-type {\n",
              "        vertical-align: middle;\n",
              "    }\n",
              "\n",
              "    .dataframe tbody tr th {\n",
              "        vertical-align: top;\n",
              "    }\n",
              "\n",
              "    .dataframe thead th {\n",
              "        text-align: right;\n",
              "    }\n",
              "</style>\n",
              "<table border=\"1\" class=\"dataframe\">\n",
              "  <thead>\n",
              "    <tr style=\"text-align: right;\">\n",
              "      <th></th>\n",
              "      <th>ind_inadimpl</th>\n",
              "      <th>contratos_anteriores</th>\n",
              "      <th>tempo_primeiro_contrato</th>\n",
              "      <th>tempo_maximo_atraso</th>\n",
              "      <th>regiao_moradia_Centro-Oeste</th>\n",
              "      <th>regiao_moradia_Estrangeiro</th>\n",
              "      <th>regiao_moradia_Nordeste</th>\n",
              "      <th>regiao_moradia_Norte</th>\n",
              "      <th>regiao_moradia_Rio de Janeiro</th>\n",
              "      <th>regiao_moradia_Sudeste</th>\n",
              "      <th>regiao_moradia_Sul</th>\n",
              "      <th>regiao_moradia_São Paulo</th>\n",
              "      <th>situacao_pagamento_Faturas quitadas</th>\n",
              "      <th>situacao_pagamento_Nenhuma fatura anterior</th>\n",
              "      <th>situacao_pagamento_Tem valores em aberto</th>\n",
              "      <th>atraso_anterior_Até 30 dias de atraso</th>\n",
              "      <th>atraso_anterior_Mais de 30 dias de atraso</th>\n",
              "      <th>atraso_anterior_Nenhum atraso anterior</th>\n",
              "    </tr>\n",
              "  </thead>\n",
              "  <tbody>\n",
              "    <tr>\n",
              "      <th>0</th>\n",
              "      <td>1.0</td>\n",
              "      <td>0.005682</td>\n",
              "      <td>0.000000</td>\n",
              "      <td>0.000000</td>\n",
              "      <td>0</td>\n",
              "      <td>0</td>\n",
              "      <td>1</td>\n",
              "      <td>0</td>\n",
              "      <td>0</td>\n",
              "      <td>0</td>\n",
              "      <td>0</td>\n",
              "      <td>0</td>\n",
              "      <td>1</td>\n",
              "      <td>0</td>\n",
              "      <td>0</td>\n",
              "      <td>0</td>\n",
              "      <td>0</td>\n",
              "      <td>1</td>\n",
              "    </tr>\n",
              "    <tr>\n",
              "      <th>1</th>\n",
              "      <td>1.0</td>\n",
              "      <td>0.011364</td>\n",
              "      <td>0.902685</td>\n",
              "      <td>0.000055</td>\n",
              "      <td>0</td>\n",
              "      <td>0</td>\n",
              "      <td>0</td>\n",
              "      <td>0</td>\n",
              "      <td>0</td>\n",
              "      <td>0</td>\n",
              "      <td>0</td>\n",
              "      <td>1</td>\n",
              "      <td>1</td>\n",
              "      <td>0</td>\n",
              "      <td>0</td>\n",
              "      <td>1</td>\n",
              "      <td>0</td>\n",
              "      <td>0</td>\n",
              "    </tr>\n",
              "    <tr>\n",
              "      <th>2</th>\n",
              "      <td>1.0</td>\n",
              "      <td>0.000000</td>\n",
              "      <td>0.000000</td>\n",
              "      <td>0.000000</td>\n",
              "      <td>0</td>\n",
              "      <td>0</td>\n",
              "      <td>0</td>\n",
              "      <td>0</td>\n",
              "      <td>0</td>\n",
              "      <td>0</td>\n",
              "      <td>0</td>\n",
              "      <td>1</td>\n",
              "      <td>0</td>\n",
              "      <td>1</td>\n",
              "      <td>0</td>\n",
              "      <td>0</td>\n",
              "      <td>0</td>\n",
              "      <td>1</td>\n",
              "    </tr>\n",
              "    <tr>\n",
              "      <th>3</th>\n",
              "      <td>1.0</td>\n",
              "      <td>0.001894</td>\n",
              "      <td>0.023490</td>\n",
              "      <td>0.000351</td>\n",
              "      <td>0</td>\n",
              "      <td>0</td>\n",
              "      <td>0</td>\n",
              "      <td>0</td>\n",
              "      <td>0</td>\n",
              "      <td>0</td>\n",
              "      <td>0</td>\n",
              "      <td>1</td>\n",
              "      <td>1</td>\n",
              "      <td>0</td>\n",
              "      <td>0</td>\n",
              "      <td>0</td>\n",
              "      <td>1</td>\n",
              "      <td>0</td>\n",
              "    </tr>\n",
              "    <tr>\n",
              "      <th>4</th>\n",
              "      <td>1.0</td>\n",
              "      <td>0.007576</td>\n",
              "      <td>0.926174</td>\n",
              "      <td>0.000000</td>\n",
              "      <td>1</td>\n",
              "      <td>0</td>\n",
              "      <td>0</td>\n",
              "      <td>0</td>\n",
              "      <td>0</td>\n",
              "      <td>0</td>\n",
              "      <td>0</td>\n",
              "      <td>0</td>\n",
              "      <td>0</td>\n",
              "      <td>1</td>\n",
              "      <td>0</td>\n",
              "      <td>0</td>\n",
              "      <td>0</td>\n",
              "      <td>1</td>\n",
              "    </tr>\n",
              "  </tbody>\n",
              "</table>\n",
              "</div>"
            ],
            "text/plain": [
              "   ind_inadimpl  ...  atraso_anterior_Nenhum atraso anterior\n",
              "0           1.0  ...                                       1\n",
              "1           1.0  ...                                       0\n",
              "2           1.0  ...                                       1\n",
              "3           1.0  ...                                       0\n",
              "4           1.0  ...                                       1\n",
              "\n",
              "[5 rows x 18 columns]"
            ]
          },
          "metadata": {
            "tags": []
          },
          "execution_count": 30
        }
      ]
    },
    {
      "cell_type": "code",
      "metadata": {
        "id": "l41fyYHlwIZO",
        "outputId": "8d8a21e9-815a-4099-b546-51059a0f45e3",
        "colab": {
          "base_uri": "https://localhost:8080/",
          "height": 442
        }
      },
      "source": [
        "base_prepared.info()"
      ],
      "execution_count": 31,
      "outputs": [
        {
          "output_type": "stream",
          "text": [
            "<class 'pandas.core.frame.DataFrame'>\n",
            "RangeIndex: 91638 entries, 0 to 91637\n",
            "Data columns (total 18 columns):\n",
            " #   Column                                      Non-Null Count  Dtype  \n",
            "---  ------                                      --------------  -----  \n",
            " 0   ind_inadimpl                                91638 non-null  float64\n",
            " 1   contratos_anteriores                        91638 non-null  float64\n",
            " 2   tempo_primeiro_contrato                     91638 non-null  float64\n",
            " 3   tempo_maximo_atraso                         91638 non-null  float64\n",
            " 4   regiao_moradia_Centro-Oeste                 91638 non-null  uint8  \n",
            " 5   regiao_moradia_Estrangeiro                  91638 non-null  uint8  \n",
            " 6   regiao_moradia_Nordeste                     91638 non-null  uint8  \n",
            " 7   regiao_moradia_Norte                        91638 non-null  uint8  \n",
            " 8   regiao_moradia_Rio de Janeiro               91638 non-null  uint8  \n",
            " 9   regiao_moradia_Sudeste                      91638 non-null  uint8  \n",
            " 10  regiao_moradia_Sul                          91638 non-null  uint8  \n",
            " 11  regiao_moradia_São Paulo                    91638 non-null  uint8  \n",
            " 12  situacao_pagamento_Faturas quitadas         91638 non-null  uint8  \n",
            " 13  situacao_pagamento_Nenhuma fatura anterior  91638 non-null  uint8  \n",
            " 14  situacao_pagamento_Tem valores em aberto    91638 non-null  uint8  \n",
            " 15  atraso_anterior_Até 30 dias de atraso       91638 non-null  uint8  \n",
            " 16  atraso_anterior_Mais de 30 dias de atraso   91638 non-null  uint8  \n",
            " 17  atraso_anterior_Nenhum atraso anterior      91638 non-null  uint8  \n",
            "dtypes: float64(4), uint8(14)\n",
            "memory usage: 4.0 MB\n"
          ],
          "name": "stdout"
        }
      ]
    },
    {
      "cell_type": "code",
      "metadata": {
        "id": "XXCxBBkrJLT8",
        "outputId": "0cf05641-ac3b-4488-dadf-e92c0790a956",
        "colab": {
          "base_uri": "https://localhost:8080/",
          "height": 334
        }
      },
      "source": [
        "base_prepared.describe()"
      ],
      "execution_count": 32,
      "outputs": [
        {
          "output_type": "execute_result",
          "data": {
            "text/html": [
              "<div>\n",
              "<style scoped>\n",
              "    .dataframe tbody tr th:only-of-type {\n",
              "        vertical-align: middle;\n",
              "    }\n",
              "\n",
              "    .dataframe tbody tr th {\n",
              "        vertical-align: top;\n",
              "    }\n",
              "\n",
              "    .dataframe thead th {\n",
              "        text-align: right;\n",
              "    }\n",
              "</style>\n",
              "<table border=\"1\" class=\"dataframe\">\n",
              "  <thead>\n",
              "    <tr style=\"text-align: right;\">\n",
              "      <th></th>\n",
              "      <th>ind_inadimpl</th>\n",
              "      <th>contratos_anteriores</th>\n",
              "      <th>tempo_primeiro_contrato</th>\n",
              "      <th>tempo_maximo_atraso</th>\n",
              "      <th>regiao_moradia_Centro-Oeste</th>\n",
              "      <th>regiao_moradia_Estrangeiro</th>\n",
              "      <th>regiao_moradia_Nordeste</th>\n",
              "      <th>regiao_moradia_Norte</th>\n",
              "      <th>regiao_moradia_Rio de Janeiro</th>\n",
              "      <th>regiao_moradia_Sudeste</th>\n",
              "      <th>regiao_moradia_Sul</th>\n",
              "      <th>regiao_moradia_São Paulo</th>\n",
              "      <th>situacao_pagamento_Faturas quitadas</th>\n",
              "      <th>situacao_pagamento_Nenhuma fatura anterior</th>\n",
              "      <th>situacao_pagamento_Tem valores em aberto</th>\n",
              "      <th>atraso_anterior_Até 30 dias de atraso</th>\n",
              "      <th>atraso_anterior_Mais de 30 dias de atraso</th>\n",
              "      <th>atraso_anterior_Nenhum atraso anterior</th>\n",
              "    </tr>\n",
              "  </thead>\n",
              "  <tbody>\n",
              "    <tr>\n",
              "      <th>count</th>\n",
              "      <td>91638.000000</td>\n",
              "      <td>91638.000000</td>\n",
              "      <td>91638.000000</td>\n",
              "      <td>91638.000000</td>\n",
              "      <td>91638.000000</td>\n",
              "      <td>91638.000000</td>\n",
              "      <td>91638.000000</td>\n",
              "      <td>91638.000000</td>\n",
              "      <td>91638.000000</td>\n",
              "      <td>91638.000000</td>\n",
              "      <td>91638.000000</td>\n",
              "      <td>91638.000000</td>\n",
              "      <td>91638.000000</td>\n",
              "      <td>91638.000000</td>\n",
              "      <td>91638.000000</td>\n",
              "      <td>91638.000000</td>\n",
              "      <td>91638.000000</td>\n",
              "      <td>91638.000000</td>\n",
              "    </tr>\n",
              "    <tr>\n",
              "      <th>mean</th>\n",
              "      <td>0.260754</td>\n",
              "      <td>0.007585</td>\n",
              "      <td>0.146650</td>\n",
              "      <td>0.000029</td>\n",
              "      <td>0.093717</td>\n",
              "      <td>0.006733</td>\n",
              "      <td>0.123715</td>\n",
              "      <td>0.045865</td>\n",
              "      <td>0.110522</td>\n",
              "      <td>0.112366</td>\n",
              "      <td>0.142856</td>\n",
              "      <td>0.364227</td>\n",
              "      <td>0.339794</td>\n",
              "      <td>0.647319</td>\n",
              "      <td>0.012888</td>\n",
              "      <td>0.016292</td>\n",
              "      <td>0.030533</td>\n",
              "      <td>0.953174</td>\n",
              "    </tr>\n",
              "    <tr>\n",
              "      <th>std</th>\n",
              "      <td>0.439048</td>\n",
              "      <td>0.021137</td>\n",
              "      <td>0.211097</td>\n",
              "      <td>0.003306</td>\n",
              "      <td>0.291436</td>\n",
              "      <td>0.081779</td>\n",
              "      <td>0.329258</td>\n",
              "      <td>0.209194</td>\n",
              "      <td>0.313541</td>\n",
              "      <td>0.315818</td>\n",
              "      <td>0.349927</td>\n",
              "      <td>0.481215</td>\n",
              "      <td>0.473642</td>\n",
              "      <td>0.477807</td>\n",
              "      <td>0.112791</td>\n",
              "      <td>0.126598</td>\n",
              "      <td>0.172050</td>\n",
              "      <td>0.211266</td>\n",
              "    </tr>\n",
              "    <tr>\n",
              "      <th>min</th>\n",
              "      <td>0.000000</td>\n",
              "      <td>0.000000</td>\n",
              "      <td>0.000000</td>\n",
              "      <td>0.000000</td>\n",
              "      <td>0.000000</td>\n",
              "      <td>0.000000</td>\n",
              "      <td>0.000000</td>\n",
              "      <td>0.000000</td>\n",
              "      <td>0.000000</td>\n",
              "      <td>0.000000</td>\n",
              "      <td>0.000000</td>\n",
              "      <td>0.000000</td>\n",
              "      <td>0.000000</td>\n",
              "      <td>0.000000</td>\n",
              "      <td>0.000000</td>\n",
              "      <td>0.000000</td>\n",
              "      <td>0.000000</td>\n",
              "      <td>0.000000</td>\n",
              "    </tr>\n",
              "    <tr>\n",
              "      <th>25%</th>\n",
              "      <td>0.000000</td>\n",
              "      <td>0.000000</td>\n",
              "      <td>0.000000</td>\n",
              "      <td>0.000000</td>\n",
              "      <td>0.000000</td>\n",
              "      <td>0.000000</td>\n",
              "      <td>0.000000</td>\n",
              "      <td>0.000000</td>\n",
              "      <td>0.000000</td>\n",
              "      <td>0.000000</td>\n",
              "      <td>0.000000</td>\n",
              "      <td>0.000000</td>\n",
              "      <td>0.000000</td>\n",
              "      <td>0.000000</td>\n",
              "      <td>0.000000</td>\n",
              "      <td>0.000000</td>\n",
              "      <td>0.000000</td>\n",
              "      <td>1.000000</td>\n",
              "    </tr>\n",
              "    <tr>\n",
              "      <th>50%</th>\n",
              "      <td>0.000000</td>\n",
              "      <td>0.001894</td>\n",
              "      <td>0.043624</td>\n",
              "      <td>0.000000</td>\n",
              "      <td>0.000000</td>\n",
              "      <td>0.000000</td>\n",
              "      <td>0.000000</td>\n",
              "      <td>0.000000</td>\n",
              "      <td>0.000000</td>\n",
              "      <td>0.000000</td>\n",
              "      <td>0.000000</td>\n",
              "      <td>0.000000</td>\n",
              "      <td>0.000000</td>\n",
              "      <td>1.000000</td>\n",
              "      <td>0.000000</td>\n",
              "      <td>0.000000</td>\n",
              "      <td>0.000000</td>\n",
              "      <td>1.000000</td>\n",
              "    </tr>\n",
              "    <tr>\n",
              "      <th>75%</th>\n",
              "      <td>1.000000</td>\n",
              "      <td>0.005682</td>\n",
              "      <td>0.231544</td>\n",
              "      <td>0.000000</td>\n",
              "      <td>0.000000</td>\n",
              "      <td>0.000000</td>\n",
              "      <td>0.000000</td>\n",
              "      <td>0.000000</td>\n",
              "      <td>0.000000</td>\n",
              "      <td>0.000000</td>\n",
              "      <td>0.000000</td>\n",
              "      <td>1.000000</td>\n",
              "      <td>1.000000</td>\n",
              "      <td>1.000000</td>\n",
              "      <td>0.000000</td>\n",
              "      <td>0.000000</td>\n",
              "      <td>0.000000</td>\n",
              "      <td>1.000000</td>\n",
              "    </tr>\n",
              "    <tr>\n",
              "      <th>max</th>\n",
              "      <td>1.000000</td>\n",
              "      <td>1.000000</td>\n",
              "      <td>1.000000</td>\n",
              "      <td>1.000000</td>\n",
              "      <td>1.000000</td>\n",
              "      <td>1.000000</td>\n",
              "      <td>1.000000</td>\n",
              "      <td>1.000000</td>\n",
              "      <td>1.000000</td>\n",
              "      <td>1.000000</td>\n",
              "      <td>1.000000</td>\n",
              "      <td>1.000000</td>\n",
              "      <td>1.000000</td>\n",
              "      <td>1.000000</td>\n",
              "      <td>1.000000</td>\n",
              "      <td>1.000000</td>\n",
              "      <td>1.000000</td>\n",
              "      <td>1.000000</td>\n",
              "    </tr>\n",
              "  </tbody>\n",
              "</table>\n",
              "</div>"
            ],
            "text/plain": [
              "       ind_inadimpl  ...  atraso_anterior_Nenhum atraso anterior\n",
              "count  91638.000000  ...                            91638.000000\n",
              "mean       0.260754  ...                                0.953174\n",
              "std        0.439048  ...                                0.211266\n",
              "min        0.000000  ...                                0.000000\n",
              "25%        0.000000  ...                                1.000000\n",
              "50%        0.000000  ...                                1.000000\n",
              "75%        1.000000  ...                                1.000000\n",
              "max        1.000000  ...                                1.000000\n",
              "\n",
              "[8 rows x 18 columns]"
            ]
          },
          "metadata": {
            "tags": []
          },
          "execution_count": 32
        }
      ]
    },
    {
      "cell_type": "markdown",
      "metadata": {
        "id": "_UbFbqzFznxq"
      },
      "source": [
        "#Construção do Modelo"
      ]
    },
    {
      "cell_type": "markdown",
      "metadata": {
        "id": "uE_poJmdhaNU"
      },
      "source": [
        "* Variável resposta (y): 'ind_inadimpl';\n",
        "* 30% da base de dados foi destinada para base teste  do modelo desenvolvido;\n",
        "* Balanceamendo dos dados: Under Sampling;\n",
        "* Modelo estatístico utilizado: Random Forest Classifier em conjunto com Análise de Componentes Principais (PCA);\n",
        "* Acurácia do modelo com Validação Cruzada;\n",
        "* Otimização do modelo desenvolvido: GridSearchCV."
      ]
    },
    {
      "cell_type": "code",
      "metadata": {
        "id": "5mo8kKiuzlgH"
      },
      "source": [
        "#SEED = 42 - escolha arbitrária\n",
        "SEED = 42\n",
        "np.random.seed(SEED)\n",
        "\n",
        "#Separação das variáveis independentes e dependente/resposta\n",
        "X = base_prepared.drop('ind_inadimpl', axis=1)\n",
        "y = base_prepared['ind_inadimpl']\n",
        "\n",
        "#Separação dados: 70% treino 70% e 30% teste\n",
        "X_treino, X_teste, y_treino, y_teste = train_test_split(X, y, test_size=0.3, stratify=y ,\n",
        "                                                   random_state=SEED)"
      ],
      "execution_count": 33,
      "outputs": []
    },
    {
      "cell_type": "code",
      "metadata": {
        "id": "xjSVflpjmEAm",
        "outputId": "b289ec09-55ac-4efa-ff3e-75d6fadfb6f2",
        "colab": {
          "base_uri": "https://localhost:8080/",
          "height": 71
        }
      },
      "source": [
        "#Balanceamendo dos dados: Under-sampling \n",
        "#Justificativa: Preservar as caraterísticas da classe minoritária\n",
        "#e porque a base possui volume de dados.\n",
        "\n",
        "rus = RandomUnderSampler()\n",
        "X_resp, y_resp = rus.fit_sample(X_treino, y_treino)"
      ],
      "execution_count": 34,
      "outputs": [
        {
          "output_type": "stream",
          "text": [
            "/usr/local/lib/python3.6/dist-packages/sklearn/utils/deprecation.py:87: FutureWarning: Function safe_indexing is deprecated; safe_indexing is deprecated in version 0.22 and will be removed in version 0.24.\n",
            "  warnings.warn(msg, category=FutureWarning)\n"
          ],
          "name": "stderr"
        }
      ]
    },
    {
      "cell_type": "code",
      "metadata": {
        "id": "MIBDxc8M2mUF",
        "outputId": "9a6c149e-6e83-49cb-fe2a-164bdd2df7d7",
        "colab": {
          "base_uri": "https://localhost:8080/",
          "height": 34
        }
      },
      "source": [
        "#Random Forest Classifier: Problema de classificação binária\n",
        "#Análise de Componentes Principais (PCA): redução de problemas \n",
        "#de dimensionalidade\n",
        "\n",
        "#Número de árvores da RF = 10 - escolha arbitrária \n",
        "\n",
        "modelo_rf = Pipeline(steps=[                                                                  \n",
        "    ('PCA', PCA()),\n",
        "    ('rf_clf', RandomForestClassifier(n_estimators=10, random_state=SEED))                   \n",
        "])\n",
        "\n",
        "#Treino do modelo\n",
        "modelo_rf.fit(X_treino, y_treino)\n",
        "\n",
        "#Previsões utilizando a base X_teste\n",
        "y_pred_rf = modelo_rf.predict(X_teste)\n",
        "y_pred_rf"
      ],
      "execution_count": 35,
      "outputs": [
        {
          "output_type": "execute_result",
          "data": {
            "text/plain": [
              "array([0., 0., 0., ..., 0., 0., 0.])"
            ]
          },
          "metadata": {
            "tags": []
          },
          "execution_count": 35
        }
      ]
    },
    {
      "cell_type": "code",
      "metadata": {
        "id": "FeNoCaLcGH17",
        "outputId": "85f004a2-d5ec-46c5-85ff-e6f63e8e07d8",
        "colab": {
          "base_uri": "https://localhost:8080/",
          "height": 102
        }
      },
      "source": [
        "#Probabilidade da variável resposta da base de teste assumir a classifcação\n",
        "#0 (adimplente) ou 1 (inadimplente) conforme features do modelo\n",
        "\n",
        "modelo_rf.predict_proba(X_teste)[0:5]"
      ],
      "execution_count": 36,
      "outputs": [
        {
          "output_type": "execute_result",
          "data": {
            "text/plain": [
              "array([[0.73468756, 0.26531244],\n",
              "       [0.58333333, 0.41666667],\n",
              "       [0.94166667, 0.05833333],\n",
              "       [0.52466789, 0.47533211],\n",
              "       [1.        , 0.        ]])"
            ]
          },
          "metadata": {
            "tags": []
          },
          "execution_count": 36
        }
      ]
    },
    {
      "cell_type": "markdown",
      "metadata": {
        "id": "aS_1dQZsCkjR"
      },
      "source": [
        "* Probabilidade das 5 primeiras entradas da base de teste ser classificada como 0 (adimplente) ou 1 (inadimplente)."
      ]
    },
    {
      "cell_type": "code",
      "metadata": {
        "id": "ja_QkGwXOxGu",
        "outputId": "96cb1954-6136-4597-c287-c345adf099fc",
        "colab": {
          "base_uri": "https://localhost:8080/",
          "height": 34
        }
      },
      "source": [
        "#Acurácia do modelo desenvolvido\n",
        "\n",
        "accuracy_rf = accuracy_score(y_teste, y_pred_rf)\n",
        "print(f'Acurácia Modelo Random Forest Classifier: {accuracy_rf}')"
      ],
      "execution_count": 37,
      "outputs": [
        {
          "output_type": "stream",
          "text": [
            "Acurácia Modelo Random Forest Classifier: 0.7325767495998836\n"
          ],
          "name": "stdout"
        }
      ]
    },
    {
      "cell_type": "markdown",
      "metadata": {
        "id": "I_Vr1KleEOCu"
      },
      "source": [
        "* O modelo desenvolvido possui uma Acurácia de 73,25%, ou seja, o modelo treinado possui 73,25% de chances de classificar o cliente como inadimplente (y = 1) corretamente.\n",
        "\n",
        "* Para confirmar a acurácia encontrada, foi aaplicada Validação Cruzada no modelo desenvolvido"
      ]
    },
    {
      "cell_type": "code",
      "metadata": {
        "id": "K-m7KXstPDX0",
        "outputId": "cad54c97-0e12-43d1-cd4b-331090a636bd",
        "colab": {
          "base_uri": "https://localhost:8080/",
          "height": 51
        }
      },
      "source": [
        "#Aleatorização dos dados para realizar Validação Cruzada\n",
        "cv = StratifiedKFold(n_splits = 5, shuffle=True)\n",
        "results_cv_rf = cross_validate(modelo_rf, X, y, cv=cv, return_train_score=False)\n",
        "\n",
        "mean_cv_rf = results_cv_rf['test_score'].mean()\n",
        "std_cv_rf = results_cv_rf['test_score'].std()\n",
        "print('Accurácia média RF - com Cross Validation: %.2f' % (mean_cv_rf * 100))\n",
        "print('Accurácia intervalo RF - com Cross Validation: [%.2f, %.2f]' % (\n",
        "    (mean_cv_rf - 2 *std_cv_rf) * 100, (mean_cv_rf + 2 * std_cv_rf) * 100))"
      ],
      "execution_count": 38,
      "outputs": [
        {
          "output_type": "stream",
          "text": [
            "Accurácia média RF - com Cross Validation: 72.98\n",
            "Accurácia intervalo RF - com Cross Validation: [72.76, 73.20]\n"
          ],
          "name": "stdout"
        }
      ]
    },
    {
      "cell_type": "markdown",
      "metadata": {
        "id": "GIxh6tjNHDMX"
      },
      "source": [
        "* Resultado semelhante ao da Acurácia sem Validação Cruzada pode indicar um modelo bem treinado.\n",
        "\n",
        "* Considerando que a base de dados utilizada são dados reais, a Acurácia acima dos 70% indica que o modelo desenvolvido possui um bom treino.\n",
        "\n"
      ]
    },
    {
      "cell_type": "code",
      "metadata": {
        "id": "ik-lk_BsSYp2",
        "outputId": "a62035d4-9791-4082-9e54-174df10f01a1",
        "colab": {
          "base_uri": "https://localhost:8080/",
          "height": 326
        }
      },
      "source": [
        "#Otimização do modelo via GridSearchCV\n",
        "\n",
        "#Definição dos parâmetros a serem testados\n",
        "param_grid_rf = [\n",
        "    {'rf_clf__n_estimators':[10, 100], 'rf_clf__criterion': ['gini', 'entropy'], 'rf_clf__class_weight':['balanced']},\n",
        "    {'rf_clf__bootstrap':[False], 'rf_clf__n_estimators':[10, 100], 'rf_clf__criterion': ['gini', 'entropy']}  \n",
        "]\n",
        "\n",
        "grid_search_rf = GridSearchCV(modelo_rf, param_grid_rf, \n",
        "                           cv = StratifiedKFold(n_splits = 5, shuffle=True), \n",
        "                           scoring='accuracy')\n",
        "#treinamento com o GriSearch\n",
        "grid_search_rf.fit(X_treino, y_treino)\n",
        "\n",
        "#resultados obtidos com o treinamento de cada parâmetro\n",
        "resultados_grid_rf = pd.DataFrame(grid_search_rf.cv_results_)\n",
        "resultados_grid_rf.head()"
      ],
      "execution_count": 39,
      "outputs": [
        {
          "output_type": "execute_result",
          "data": {
            "text/html": [
              "<div>\n",
              "<style scoped>\n",
              "    .dataframe tbody tr th:only-of-type {\n",
              "        vertical-align: middle;\n",
              "    }\n",
              "\n",
              "    .dataframe tbody tr th {\n",
              "        vertical-align: top;\n",
              "    }\n",
              "\n",
              "    .dataframe thead th {\n",
              "        text-align: right;\n",
              "    }\n",
              "</style>\n",
              "<table border=\"1\" class=\"dataframe\">\n",
              "  <thead>\n",
              "    <tr style=\"text-align: right;\">\n",
              "      <th></th>\n",
              "      <th>mean_fit_time</th>\n",
              "      <th>std_fit_time</th>\n",
              "      <th>mean_score_time</th>\n",
              "      <th>std_score_time</th>\n",
              "      <th>param_rf_clf__class_weight</th>\n",
              "      <th>param_rf_clf__criterion</th>\n",
              "      <th>param_rf_clf__n_estimators</th>\n",
              "      <th>param_rf_clf__bootstrap</th>\n",
              "      <th>params</th>\n",
              "      <th>split0_test_score</th>\n",
              "      <th>split1_test_score</th>\n",
              "      <th>split2_test_score</th>\n",
              "      <th>split3_test_score</th>\n",
              "      <th>split4_test_score</th>\n",
              "      <th>mean_test_score</th>\n",
              "      <th>std_test_score</th>\n",
              "      <th>rank_test_score</th>\n",
              "    </tr>\n",
              "  </thead>\n",
              "  <tbody>\n",
              "    <tr>\n",
              "      <th>0</th>\n",
              "      <td>1.422082</td>\n",
              "      <td>0.010860</td>\n",
              "      <td>0.039029</td>\n",
              "      <td>0.002630</td>\n",
              "      <td>balanced</td>\n",
              "      <td>gini</td>\n",
              "      <td>10</td>\n",
              "      <td>NaN</td>\n",
              "      <td>{'rf_clf__class_weight': 'balanced', 'rf_clf__...</td>\n",
              "      <td>0.616680</td>\n",
              "      <td>0.612519</td>\n",
              "      <td>0.613298</td>\n",
              "      <td>0.613688</td>\n",
              "      <td>0.610726</td>\n",
              "      <td>0.613382</td>\n",
              "      <td>0.001938</td>\n",
              "      <td>7</td>\n",
              "    </tr>\n",
              "    <tr>\n",
              "      <th>1</th>\n",
              "      <td>13.160518</td>\n",
              "      <td>0.126096</td>\n",
              "      <td>0.270414</td>\n",
              "      <td>0.006046</td>\n",
              "      <td>balanced</td>\n",
              "      <td>gini</td>\n",
              "      <td>100</td>\n",
              "      <td>NaN</td>\n",
              "      <td>{'rf_clf__class_weight': 'balanced', 'rf_clf__...</td>\n",
              "      <td>0.616446</td>\n",
              "      <td>0.614623</td>\n",
              "      <td>0.613766</td>\n",
              "      <td>0.615325</td>\n",
              "      <td>0.612752</td>\n",
              "      <td>0.614582</td>\n",
              "      <td>0.001268</td>\n",
              "      <td>6</td>\n",
              "    </tr>\n",
              "    <tr>\n",
              "      <th>2</th>\n",
              "      <td>2.340602</td>\n",
              "      <td>0.047558</td>\n",
              "      <td>0.040754</td>\n",
              "      <td>0.000776</td>\n",
              "      <td>balanced</td>\n",
              "      <td>entropy</td>\n",
              "      <td>10</td>\n",
              "      <td>NaN</td>\n",
              "      <td>{'rf_clf__class_weight': 'balanced', 'rf_clf__...</td>\n",
              "      <td>0.615666</td>\n",
              "      <td>0.613376</td>\n",
              "      <td>0.613766</td>\n",
              "      <td>0.612986</td>\n",
              "      <td>0.610804</td>\n",
              "      <td>0.613320</td>\n",
              "      <td>0.001559</td>\n",
              "      <td>8</td>\n",
              "    </tr>\n",
              "    <tr>\n",
              "      <th>3</th>\n",
              "      <td>22.484195</td>\n",
              "      <td>0.366359</td>\n",
              "      <td>0.286449</td>\n",
              "      <td>0.002165</td>\n",
              "      <td>balanced</td>\n",
              "      <td>entropy</td>\n",
              "      <td>100</td>\n",
              "      <td>NaN</td>\n",
              "      <td>{'rf_clf__class_weight': 'balanced', 'rf_clf__...</td>\n",
              "      <td>0.617537</td>\n",
              "      <td>0.614701</td>\n",
              "      <td>0.614779</td>\n",
              "      <td>0.616338</td>\n",
              "      <td>0.612441</td>\n",
              "      <td>0.615159</td>\n",
              "      <td>0.001720</td>\n",
              "      <td>5</td>\n",
              "    </tr>\n",
              "    <tr>\n",
              "      <th>4</th>\n",
              "      <td>2.271679</td>\n",
              "      <td>0.045252</td>\n",
              "      <td>0.042548</td>\n",
              "      <td>0.000962</td>\n",
              "      <td>NaN</td>\n",
              "      <td>gini</td>\n",
              "      <td>10</td>\n",
              "      <td>False</td>\n",
              "      <td>{'rf_clf__bootstrap': False, 'rf_clf__criterio...</td>\n",
              "      <td>0.725331</td>\n",
              "      <td>0.727570</td>\n",
              "      <td>0.728895</td>\n",
              "      <td>0.727337</td>\n",
              "      <td>0.726713</td>\n",
              "      <td>0.727169</td>\n",
              "      <td>0.001162</td>\n",
              "      <td>1</td>\n",
              "    </tr>\n",
              "  </tbody>\n",
              "</table>\n",
              "</div>"
            ],
            "text/plain": [
              "   mean_fit_time  std_fit_time  ...  std_test_score  rank_test_score\n",
              "0       1.422082      0.010860  ...        0.001938                7\n",
              "1      13.160518      0.126096  ...        0.001268                6\n",
              "2       2.340602      0.047558  ...        0.001559                8\n",
              "3      22.484195      0.366359  ...        0.001720                5\n",
              "4       2.271679      0.045252  ...        0.001162                1\n",
              "\n",
              "[5 rows x 17 columns]"
            ]
          },
          "metadata": {
            "tags": []
          },
          "execution_count": 39
        }
      ]
    },
    {
      "cell_type": "code",
      "metadata": {
        "id": "tCjE7jZPbl81",
        "outputId": "aaf8d38c-8485-41eb-f69a-34374beb1ab8",
        "colab": {
          "base_uri": "https://localhost:8080/",
          "height": 68
        }
      },
      "source": [
        "#Melhores parâmetros encontrados\n",
        "grid_search_rf.best_params_"
      ],
      "execution_count": 40,
      "outputs": [
        {
          "output_type": "execute_result",
          "data": {
            "text/plain": [
              "{'rf_clf__bootstrap': False,\n",
              " 'rf_clf__criterion': 'gini',\n",
              " 'rf_clf__n_estimators': 10}"
            ]
          },
          "metadata": {
            "tags": []
          },
          "execution_count": 40
        }
      ]
    },
    {
      "cell_type": "code",
      "metadata": {
        "id": "Z_KtH583byms",
        "outputId": "b9c2797f-a063-4811-81ab-fe2bc1f14213",
        "colab": {
          "base_uri": "https://localhost:8080/",
          "height": 323
        }
      },
      "source": [
        "#RandomForest treinado com os melhores parâmetros encontrados\n",
        "best_est_rf = grid_search_rf.best_estimator_\n",
        "best_est_rf.fit(X_treino, y_treino)"
      ],
      "execution_count": 41,
      "outputs": [
        {
          "output_type": "execute_result",
          "data": {
            "text/plain": [
              "Pipeline(memory=None,\n",
              "         steps=[('PCA',\n",
              "                 PCA(copy=True, iterated_power='auto', n_components=None,\n",
              "                     random_state=None, svd_solver='auto', tol=0.0,\n",
              "                     whiten=False)),\n",
              "                ('rf_clf',\n",
              "                 RandomForestClassifier(bootstrap=False, ccp_alpha=0.0,\n",
              "                                        class_weight=None, criterion='gini',\n",
              "                                        max_depth=None, max_features='auto',\n",
              "                                        max_leaf_nodes=None, max_samples=None,\n",
              "                                        min_impurity_decrease=0.0,\n",
              "                                        min_impurity_split=None,\n",
              "                                        min_samples_leaf=1, min_samples_split=2,\n",
              "                                        min_weight_fraction_leaf=0.0,\n",
              "                                        n_estimators=10, n_jobs=None,\n",
              "                                        oob_score=False, random_state=42,\n",
              "                                        verbose=0, warm_start=False))],\n",
              "         verbose=False)"
            ]
          },
          "metadata": {
            "tags": []
          },
          "execution_count": 41
        }
      ]
    },
    {
      "cell_type": "code",
      "metadata": {
        "id": "8mdjEPDncYpo"
      },
      "source": [
        "y_pred_acc_rf= best_est_rf.predict(X_teste)"
      ],
      "execution_count": 42,
      "outputs": []
    },
    {
      "cell_type": "markdown",
      "metadata": {
        "id": "ZFuc1PIgcgxD"
      },
      "source": [
        "#Avaliação Modelo Random Forest Classifier com PCA\n",
        "\n",
        "* Acurácia; \n",
        "* Precisão;\n",
        "* Sensibilidade;\n",
        "* F1-Score;\n",
        "* Matriz de Confusão;\n",
        "* Grau de importância para cada feature do modelo;\n",
        "\n",
        "\n",
        "Temos o precision(precisão) que nos diz o quão preciso está sendo o nosso modelo na hora de acertar a classificação. O recall(revocação) é a fração de instâncias relevantes que são recuperadas. E o f1-score é uma média harmônica de ambos."
      ]
    },
    {
      "cell_type": "code",
      "metadata": {
        "id": "arqGh-Gpcli2",
        "outputId": "4a5d8f74-7d1a-4ec9-8d2d-f99cdf24de5f",
        "colab": {
          "base_uri": "https://localhost:8080/",
          "height": 85
        }
      },
      "source": [
        "print('Score Acurácia: ' + str(accuracy_score(y_teste,y_pred_acc_rf)))\n",
        "print('Score Precisão: ' + str(precision_score(y_teste,y_pred_acc_rf)))\n",
        "print('Score Sensibilidade: ' + str(recall_score(y_teste,y_pred_acc_rf)))\n",
        "print('F1-Score: ' + str(f1_score(y_teste,y_pred_acc_rf)))"
      ],
      "execution_count": 43,
      "outputs": [
        {
          "output_type": "stream",
          "text": [
            "Score Acurácia: 0.7300305543430816\n",
            "Score Precisão: 0.41864951768488745\n",
            "Score Sensibilidade: 0.09080764402287628\n",
            "F1-Score: 0.1492434662998625\n"
          ],
          "name": "stdout"
        }
      ]
    },
    {
      "cell_type": "markdown",
      "metadata": {
        "id": "ulgFd8KEIldk"
      },
      "source": [
        "* Acurácia: Probabilidade do modelo treinado apresentar um verdadeiro positivo, ou seja, classificar corretamente a variável dependente;\n",
        "* Precisão: O quanto o modelo efetivamente acerta, considerando todos os verdadeiros positivos e falsos positivos; \n",
        "* Sensibilidade: Fração de observações revelantes que são selecionadas;\n",
        "* F1-Score: Média harmônica entre precisão e sensibilidade."
      ]
    },
    {
      "cell_type": "code",
      "metadata": {
        "id": "Z7wMSPdsd-lY",
        "outputId": "edb92435-7147-40a4-eac8-d86120559629",
        "colab": {
          "base_uri": "https://localhost:8080/",
          "height": 329
        }
      },
      "source": [
        "print(confusion_matrix(y_teste, y_pred_acc_rf))\n",
        "\n",
        "#Matrix de Confusão\n",
        "skplt.metrics.plot_confusion_matrix(y_teste, y_pred_acc_rf, normalize=True);"
      ],
      "execution_count": 44,
      "outputs": [
        {
          "output_type": "stream",
          "text": [
            "[[19419   904]\n",
            " [ 6518   651]]\n"
          ],
          "name": "stdout"
        },
        {
          "output_type": "display_data",
          "data": {
            "image/png": "[encoded data removed]",
            "text/plain": [
              "<Figure size 432x288 with 2 Axes>"
            ]
          },
          "metadata": {
            "tags": [],
            "needs_background": "light"
          }
        }
      ]
    },
    {
      "cell_type": "markdown",
      "metadata": {
        "id": "9rMZ6HH1NId7"
      },
      "source": [
        "* Estrutura Matriz de Confusão:\n",
        "\n",
        "[*Verdadeiros Negativos*, *Falsos Positivos*\n",
        "\n",
        "*Falsos Negativos*, *Verdadeiros Positivos*]\n",
        "\n",
        "* A Matriz de Confusão do modelo treinado indica que o modelo possui uma precisão elevada para classificar o cliente como adimplente (0) quando o mesmo é adimplente.\n",
        "\n",
        "* A Matriz de Confusão domodelo treinado indica que o modelo classifica o cliente como adimplente (0) quando o mesmo é inadimplente (1)."
      ]
    },
    {
      "cell_type": "code",
      "metadata": {
        "id": "PG3_HMFXe7Cm",
        "outputId": "35bb87b4-2edd-41e5-a497-9a5a1f315a7e",
        "colab": {
          "base_uri": "https://localhost:8080/",
          "height": 176
        }
      },
      "source": [
        "#Principais métricas desenvolvidas\n",
        "\n",
        "print(classification_report(y_teste, y_pred_acc_rf))"
      ],
      "execution_count": 45,
      "outputs": [
        {
          "output_type": "stream",
          "text": [
            "              precision    recall  f1-score   support\n",
            "\n",
            "         0.0       0.75      0.96      0.84     20323\n",
            "         1.0       0.42      0.09      0.15      7169\n",
            "\n",
            "    accuracy                           0.73     27492\n",
            "   macro avg       0.58      0.52      0.49     27492\n",
            "weighted avg       0.66      0.73      0.66     27492\n",
            "\n"
          ],
          "name": "stdout"
        }
      ]
    },
    {
      "cell_type": "code",
      "metadata": {
        "id": "ZW0mesR2j7zX",
        "outputId": "3b82c051-4ee5-4134-e79f-de259e1abe76",
        "colab": {
          "base_uri": "https://localhost:8080/",
          "height": 682
        }
      },
      "source": [
        "#Importância de cada feature no modelo treinado\n",
        "\n",
        "#Levantamento da importância de cada feature do modelo\n",
        "perm = PermutationImportance(modelo_rf, random_state=1).fit(X_teste, y_teste)\n",
        "\n",
        "#Lista de features do modelo treinado\n",
        "feature_list = list(base_prepared.columns)\n",
        "\n",
        "importancia = list(perm.feature_importances_)\n",
        "\n",
        "x_values = list(range(len(importancia)))\n",
        "\n",
        "plt.figure(figsize=(10,7))\n",
        "\n",
        "plt.bar(x_values, importancia, orientation = 'vertical')\n",
        "\n",
        "# Tick labels for x axis\n",
        "plt.xticks(x_values, feature_list, rotation='vertical')\n",
        "\n",
        "# Axis labels and title\n",
        "plt.ylabel('Importância'); plt.xlabel('Variável'); plt.title('Importância das Variáveis');   "
      ],
      "execution_count": 49,
      "outputs": [
        {
          "output_type": "display_data",
          "data": {
            "image/png": "[encoded data removed]",
            "text/plain": [
              "<Figure size 720x504 with 1 Axes>"
            ]
          },
          "metadata": {
            "tags": [],
            "needs_background": "light"
          }
        }
      ]
    },
    {
      "cell_type": "markdown",
      "metadata": {
        "id": "xWUiQyiCQDcU"
      },
      "source": [
        "* Verifca-se que as features com mais relevância no modelo são:\n",
        "\n",
        "1.   'contratos_anteriores'\n",
        "2.   'situacao_pagamento_Faturas quitadas'\n",
        "3.   'regiao_moradia_São Paulo'\n",
        "\n",
        "\n",
        "\n",
        "\n",
        "\n"
      ]
    }
  ]
}